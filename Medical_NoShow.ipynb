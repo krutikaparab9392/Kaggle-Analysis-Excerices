{
 "cells": [
  {
   "cell_type": "markdown",
   "metadata": {
    "_cell_guid": "892ac5a4-fcab-4ac1-a5ae-c09e129be571",
    "_uuid": "69b47aa70345901c7bfaaeed9387999aa264ba1e"
   },
   "source": [
    "## Medical Appointment No Shows"
   ]
  },
  {
   "cell_type": "markdown",
   "metadata": {
    "_cell_guid": "dd0a9063-a8c6-4ebb-b430-656e785d951a",
    "_uuid": "3c9a04062f2432280ac23215da3171c9228fd882"
   },
   "source": [
    "### 1. Load Libraries"
   ]
  },
  {
   "cell_type": "markdown",
   "metadata": {
    "_cell_guid": "a175b3d0-fd13-4e20-8338-e86841b32dd2",
    "_uuid": "ebc9fc9fbc7ab5374070043fbb463c2e0668308e"
   },
   "source": [
    "Below we will load all the required libraries. Libraries for reading CSV File, Basic EDA, Visualization and Data Modeling are all loaded in the below cell."
   ]
  },
  {
   "cell_type": "code",
   "execution_count": 1,
   "metadata": {
    "_cell_guid": "b8fb50e3-b70f-4b2a-aa44-8f20f28d0cd9",
    "_uuid": "ec05aee77d14bf234f2c96b5d5aed6653de6ed53"
   },
   "outputs": [
    {
     "name": "stderr",
     "output_type": "stream",
     "text": [
      "C:\\Users\\kparab\\Anaconda3\\lib\\site-packages\\sklearn\\ensemble\\weight_boosting.py:29: DeprecationWarning: numpy.core.umath_tests is an internal NumPy module and should not be imported. It will be removed in a future NumPy release.\n",
      "  from numpy.core.umath_tests import inner1d\n"
     ]
    }
   ],
   "source": [
    "import pandas as pd\n",
    "import numpy as np\n",
    "import datetime\n",
    "from time import strftime\n",
    "\n",
    "from sklearn.model_selection import train_test_split\n",
    "from sklearn.model_selection import GridSearchCV\n",
    "from sklearn.preprocessing import LabelEncoder\n",
    "\n",
    "from sklearn.tree import DecisionTreeClassifier\n",
    "from sklearn.ensemble import RandomForestClassifier\n",
    "\n",
    "import matplotlib.pyplot as plt\n",
    "%matplotlib inline\n",
    "\n",
    "import seaborn as sns"
   ]
  },
  {
   "cell_type": "code",
   "execution_count": null,
   "metadata": {
    "_cell_guid": "525df933-2111-4e78-bd49-73f8db344b5e",
    "_uuid": "1d0ce3ff05b7b8d7e4c2b00ff8b0697799a1c647",
    "collapsed": true
   },
   "outputs": [],
   "source": []
  },
  {
   "cell_type": "code",
   "execution_count": 2,
   "metadata": {
    "_cell_guid": "1e15ddbd-e4af-4a41-bdb6-5329ba5ebc7d",
    "_uuid": "ecd98fb2c44b301ac83b89457ac91eb9e5b045f3"
   },
   "outputs": [],
   "source": [
    "week_key = ['Monday','Tuesday','Wednesday','Thursday','Friday','Saturday','Sunday']"
   ]
  },
  {
   "cell_type": "markdown",
   "metadata": {
    "_cell_guid": "10c277c5-d481-4a92-99d8-3033a72bee5b",
    "_uuid": "a5fe68cb1e6ea49f9c19944284db0957d78c80aa"
   },
   "source": [
    "### 2. Load Data"
   ]
  },
  {
   "cell_type": "markdown",
   "metadata": {
    "_cell_guid": "005a73a0-7ae9-464e-8293-b92bc070124d",
    "_uuid": "baf98ee3fa4d53f371425af2545dfca5929784a3"
   },
   "source": [
    "In the below cell we will load the data from the CSV file in to a DataFrame. We will also check the row and column count by getting the shape of the data."
   ]
  },
  {
   "cell_type": "code",
   "execution_count": 3,
   "metadata": {
    "_cell_guid": "f76f8ca1-d204-467c-9bf4-f7738cd4f46c",
    "_uuid": "55d3dea093044917e98dbe4d24ad31b93b4e2058"
   },
   "outputs": [],
   "source": [
    "df = pd.read_csv('C://Users//kparab//Downloads//KaggleV2-May-2016.csv//KaggleV2-May-2016.csv')"
   ]
  },
  {
   "cell_type": "code",
   "execution_count": 4,
   "metadata": {
    "_cell_guid": "c7c06bc2-9cc9-4310-bbc6-d61b043b5595",
    "_uuid": "a146ff9570a6d591e8f0415f304448472b3d8bfa"
   },
   "outputs": [
    {
     "name": "stdout",
     "output_type": "stream",
     "text": [
      "The shape of the DataFrame is => (110527, 14)\n"
     ]
    }
   ],
   "source": [
    "print(\"The shape of the DataFrame is => {}\".format(df.shape))"
   ]
  },
  {
   "cell_type": "markdown",
   "metadata": {
    "_cell_guid": "c6b7d6c0-b6f8-43e1-b636-f9c053225559",
    "_uuid": "b1baae34490c1bc879c41138d603869f7593d622"
   },
   "source": [
    "### 3. Basic Info of the Data"
   ]
  },
  {
   "cell_type": "markdown",
   "metadata": {
    "_cell_guid": "ec0bf87c-82fa-4e04-9a7a-0532d3b257a3",
    "_uuid": "17f9d606d7106157c4bf7489b3e5575e52c9273e"
   },
   "source": [
    "In the below cells we will see the basic information about the data that we had loaded in the previous step."
   ]
  },
  {
   "cell_type": "code",
   "execution_count": 5,
   "metadata": {
    "_cell_guid": "1528d50d-b1bc-4b9e-bd74-25d929fb0727",
    "_uuid": "2a21cdfd00f1790449eb37bbaa72f98f684636ed"
   },
   "outputs": [
    {
     "name": "stdout",
     "output_type": "stream",
     "text": [
      "<class 'pandas.core.frame.DataFrame'>\n",
      "RangeIndex: 110527 entries, 0 to 110526\n",
      "Data columns (total 14 columns):\n",
      "PatientId         110527 non-null float64\n",
      "AppointmentID     110527 non-null int64\n",
      "Gender            110527 non-null object\n",
      "ScheduledDay      110527 non-null object\n",
      "AppointmentDay    110527 non-null object\n",
      "Age               110527 non-null int64\n",
      "Neighbourhood     110527 non-null object\n",
      "Scholarship       110527 non-null int64\n",
      "Hipertension      110527 non-null int64\n",
      "Diabetes          110527 non-null int64\n",
      "Alcoholism        110527 non-null int64\n",
      "Handcap           110527 non-null int64\n",
      "SMS_received      110527 non-null int64\n",
      "No-show           110527 non-null object\n",
      "dtypes: float64(1), int64(8), object(5)\n",
      "memory usage: 11.8+ MB\n"
     ]
    }
   ],
   "source": [
    "df.info()"
   ]
  },
  {
   "cell_type": "markdown",
   "metadata": {
    "_cell_guid": "e713fbb0-f57c-4945-8cd2-4a0840ee3b1c",
    "_uuid": "b726ccb20f46f0e70cb71b897f6cec33ea10b462"
   },
   "source": [
    "As can be seen above there are no NaN values in any of the columns."
   ]
  },
  {
   "cell_type": "code",
   "execution_count": 7,
   "metadata": {
    "_cell_guid": "fffcf3a7-1d58-42fe-8949-88a582be6dd2",
    "_uuid": "8c4f5a78a99094384d5d528ed1bab747ca792bb0",
    "scrolled": true
   },
   "outputs": [
    {
     "data": {
      "text/html": [
       "<div>\n",
       "<style scoped>\n",
       "    .dataframe tbody tr th:only-of-type {\n",
       "        vertical-align: middle;\n",
       "    }\n",
       "\n",
       "    .dataframe tbody tr th {\n",
       "        vertical-align: top;\n",
       "    }\n",
       "\n",
       "    .dataframe thead th {\n",
       "        text-align: right;\n",
       "    }\n",
       "</style>\n",
       "<table border=\"1\" class=\"dataframe\">\n",
       "  <thead>\n",
       "    <tr style=\"text-align: right;\">\n",
       "      <th></th>\n",
       "      <th>PatientId</th>\n",
       "      <th>AppointmentID</th>\n",
       "      <th>Gender</th>\n",
       "      <th>ScheduledDay</th>\n",
       "      <th>AppointmentDay</th>\n",
       "      <th>Age</th>\n",
       "      <th>Neighbourhood</th>\n",
       "      <th>Scholarship</th>\n",
       "      <th>Hipertension</th>\n",
       "      <th>Diabetes</th>\n",
       "      <th>Alcoholism</th>\n",
       "      <th>Handcap</th>\n",
       "      <th>SMS_received</th>\n",
       "      <th>No-show</th>\n",
       "    </tr>\n",
       "  </thead>\n",
       "  <tbody>\n",
       "    <tr>\n",
       "      <th>0</th>\n",
       "      <td>2.987250e+13</td>\n",
       "      <td>5642903</td>\n",
       "      <td>F</td>\n",
       "      <td>2016-04-29T18:38:08Z</td>\n",
       "      <td>2016-04-29T00:00:00Z</td>\n",
       "      <td>62</td>\n",
       "      <td>JARDIM DA PENHA</td>\n",
       "      <td>0</td>\n",
       "      <td>1</td>\n",
       "      <td>0</td>\n",
       "      <td>0</td>\n",
       "      <td>0</td>\n",
       "      <td>0</td>\n",
       "      <td>No</td>\n",
       "    </tr>\n",
       "    <tr>\n",
       "      <th>1</th>\n",
       "      <td>5.589978e+14</td>\n",
       "      <td>5642503</td>\n",
       "      <td>M</td>\n",
       "      <td>2016-04-29T16:08:27Z</td>\n",
       "      <td>2016-04-29T00:00:00Z</td>\n",
       "      <td>56</td>\n",
       "      <td>JARDIM DA PENHA</td>\n",
       "      <td>0</td>\n",
       "      <td>0</td>\n",
       "      <td>0</td>\n",
       "      <td>0</td>\n",
       "      <td>0</td>\n",
       "      <td>0</td>\n",
       "      <td>No</td>\n",
       "    </tr>\n",
       "    <tr>\n",
       "      <th>2</th>\n",
       "      <td>4.262962e+12</td>\n",
       "      <td>5642549</td>\n",
       "      <td>F</td>\n",
       "      <td>2016-04-29T16:19:04Z</td>\n",
       "      <td>2016-04-29T00:00:00Z</td>\n",
       "      <td>62</td>\n",
       "      <td>MATA DA PRAIA</td>\n",
       "      <td>0</td>\n",
       "      <td>0</td>\n",
       "      <td>0</td>\n",
       "      <td>0</td>\n",
       "      <td>0</td>\n",
       "      <td>0</td>\n",
       "      <td>No</td>\n",
       "    </tr>\n",
       "    <tr>\n",
       "      <th>3</th>\n",
       "      <td>8.679512e+11</td>\n",
       "      <td>5642828</td>\n",
       "      <td>F</td>\n",
       "      <td>2016-04-29T17:29:31Z</td>\n",
       "      <td>2016-04-29T00:00:00Z</td>\n",
       "      <td>8</td>\n",
       "      <td>PONTAL DE CAMBURI</td>\n",
       "      <td>0</td>\n",
       "      <td>0</td>\n",
       "      <td>0</td>\n",
       "      <td>0</td>\n",
       "      <td>0</td>\n",
       "      <td>0</td>\n",
       "      <td>No</td>\n",
       "    </tr>\n",
       "    <tr>\n",
       "      <th>4</th>\n",
       "      <td>8.841186e+12</td>\n",
       "      <td>5642494</td>\n",
       "      <td>F</td>\n",
       "      <td>2016-04-29T16:07:23Z</td>\n",
       "      <td>2016-04-29T00:00:00Z</td>\n",
       "      <td>56</td>\n",
       "      <td>JARDIM DA PENHA</td>\n",
       "      <td>0</td>\n",
       "      <td>1</td>\n",
       "      <td>1</td>\n",
       "      <td>0</td>\n",
       "      <td>0</td>\n",
       "      <td>0</td>\n",
       "      <td>No</td>\n",
       "    </tr>\n",
       "  </tbody>\n",
       "</table>\n",
       "</div>"
      ],
      "text/plain": [
       "      PatientId  AppointmentID Gender          ScheduledDay  \\\n",
       "0  2.987250e+13        5642903      F  2016-04-29T18:38:08Z   \n",
       "1  5.589978e+14        5642503      M  2016-04-29T16:08:27Z   \n",
       "2  4.262962e+12        5642549      F  2016-04-29T16:19:04Z   \n",
       "3  8.679512e+11        5642828      F  2016-04-29T17:29:31Z   \n",
       "4  8.841186e+12        5642494      F  2016-04-29T16:07:23Z   \n",
       "\n",
       "         AppointmentDay  Age      Neighbourhood  Scholarship  Hipertension  \\\n",
       "0  2016-04-29T00:00:00Z   62    JARDIM DA PENHA            0             1   \n",
       "1  2016-04-29T00:00:00Z   56    JARDIM DA PENHA            0             0   \n",
       "2  2016-04-29T00:00:00Z   62      MATA DA PRAIA            0             0   \n",
       "3  2016-04-29T00:00:00Z    8  PONTAL DE CAMBURI            0             0   \n",
       "4  2016-04-29T00:00:00Z   56    JARDIM DA PENHA            0             1   \n",
       "\n",
       "   Diabetes  Alcoholism  Handcap  SMS_received No-show  \n",
       "0         0           0        0             0      No  \n",
       "1         0           0        0             0      No  \n",
       "2         0           0        0             0      No  \n",
       "3         0           0        0             0      No  \n",
       "4         1           0        0             0      No  "
      ]
     },
     "execution_count": 7,
     "metadata": {},
     "output_type": "execute_result"
    }
   ],
   "source": [
    "# Print the top 5 rows\n",
    "df.head()"
   ]
  },
  {
   "cell_type": "markdown",
   "metadata": {
    "_cell_guid": "34089150-4520-4b23-a3e3-42b12afa31e2",
    "_uuid": "966f16a26611c19bc5991e92f4c1e1bf0e1a114a"
   },
   "source": [
    "### 4. Correct Incosistencies in Data"
   ]
  },
  {
   "cell_type": "markdown",
   "metadata": {
    "_cell_guid": "4252c3d4-89f3-45b0-bfac-b28e3dab81b6",
    "_uuid": "5668b87e72e707ef8440971bdee14d72206a1a6e"
   },
   "source": [
    "Below we will correct some of the inconsistencies in the data:\n",
    "\n",
    "1. PatientId is an Integer and not Float. So, we will convert it into int64.\n",
    "2. Data Type of ScheduledDay and AppointmentDay will be changed to DateTime.\n",
    "3. Typo's in the Column names will be corrected\n",
    "4. As the AppointmentDay has 00:00:00 in it's TimeStamp, we will ignore it.\n",
    "5. As we removed the Time from AppointmentDay's TimeStamp we will do a similar thing for ScheduledDay also. (Ideally the Time in AppointmentDay column will help us better rather than in the ScheduledDay)"
   ]
  },
  {
   "cell_type": "code",
   "execution_count": 8,
   "metadata": {
    "_cell_guid": "49fe1234-426e-46bd-8926-6d6b080b4c89",
    "_uuid": "b4b196da0e83d875d3ec4a1601ec6887c6fa11e1"
   },
   "outputs": [],
   "source": [
    "# Convert PatientId from Float to Integer\n",
    "df['PatientId'] = df['PatientId'].astype('int64')\n",
    "\n",
    "# Convert ScheduledDay and AppointmentDay from 'object' type to 'datetime64[ns]'\n",
    "df['ScheduledDay'] = pd.to_datetime(df['ScheduledDay']).dt.date.astype('datetime64[ns]')\n",
    "df['AppointmentDay'] = pd.to_datetime(df['AppointmentDay']).dt.date.astype('datetime64[ns]')\n",
    "\n",
    "# Rename incorrect column names.\n",
    "df = df.rename(columns={'Hipertension': 'Hypertension', 'Handcap': 'Handicap', 'SMS_received': 'SMSReceived', 'No-show': 'NoShow'})"
   ]
  },
  {
   "cell_type": "code",
   "execution_count": 10,
   "metadata": {
    "_cell_guid": "e0f64a3f-6944-4c32-ad55-921cd9972cd5",
    "_uuid": "1a8a5276b9ca9f9995e7c0f4a379a87b5b7f8d17"
   },
   "outputs": [
    {
     "name": "stdout",
     "output_type": "stream",
     "text": [
      "<class 'pandas.core.frame.DataFrame'>\n",
      "RangeIndex: 110527 entries, 0 to 110526\n",
      "Data columns (total 14 columns):\n",
      "PatientId         110527 non-null int64\n",
      "AppointmentID     110527 non-null int64\n",
      "Gender            110527 non-null object\n",
      "ScheduledDay      110527 non-null datetime64[ns]\n",
      "AppointmentDay    110527 non-null datetime64[ns]\n",
      "Age               110527 non-null int64\n",
      "Neighbourhood     110527 non-null object\n",
      "Scholarship       110527 non-null int64\n",
      "Hypertension      110527 non-null int64\n",
      "Diabetes          110527 non-null int64\n",
      "Alcoholism        110527 non-null int64\n",
      "Handicap          110527 non-null int64\n",
      "SMSReceived       110527 non-null int64\n",
      "NoShow            110527 non-null object\n",
      "dtypes: datetime64[ns](2), int64(9), object(3)\n",
      "memory usage: 11.8+ MB\n"
     ]
    }
   ],
   "source": [
    "df.info()"
   ]
  },
  {
   "cell_type": "code",
   "execution_count": 11,
   "metadata": {
    "_cell_guid": "c4c12972-d3f1-4654-a31c-9e4fd2d0588e",
    "_uuid": "8bf54e3eae7782d16df4519c37b08facbb058587"
   },
   "outputs": [
    {
     "data": {
      "text/html": [
       "<div>\n",
       "<style scoped>\n",
       "    .dataframe tbody tr th:only-of-type {\n",
       "        vertical-align: middle;\n",
       "    }\n",
       "\n",
       "    .dataframe tbody tr th {\n",
       "        vertical-align: top;\n",
       "    }\n",
       "\n",
       "    .dataframe thead th {\n",
       "        text-align: right;\n",
       "    }\n",
       "</style>\n",
       "<table border=\"1\" class=\"dataframe\">\n",
       "  <thead>\n",
       "    <tr style=\"text-align: right;\">\n",
       "      <th></th>\n",
       "      <th>PatientId</th>\n",
       "      <th>AppointmentID</th>\n",
       "      <th>Gender</th>\n",
       "      <th>ScheduledDay</th>\n",
       "      <th>AppointmentDay</th>\n",
       "      <th>Age</th>\n",
       "      <th>Neighbourhood</th>\n",
       "      <th>Scholarship</th>\n",
       "      <th>Hypertension</th>\n",
       "      <th>Diabetes</th>\n",
       "      <th>Alcoholism</th>\n",
       "      <th>Handicap</th>\n",
       "      <th>SMSReceived</th>\n",
       "      <th>NoShow</th>\n",
       "    </tr>\n",
       "  </thead>\n",
       "  <tbody>\n",
       "    <tr>\n",
       "      <th>0</th>\n",
       "      <td>29872499824296</td>\n",
       "      <td>5642903</td>\n",
       "      <td>F</td>\n",
       "      <td>2016-04-29</td>\n",
       "      <td>2016-04-29</td>\n",
       "      <td>62</td>\n",
       "      <td>JARDIM DA PENHA</td>\n",
       "      <td>0</td>\n",
       "      <td>1</td>\n",
       "      <td>0</td>\n",
       "      <td>0</td>\n",
       "      <td>0</td>\n",
       "      <td>0</td>\n",
       "      <td>No</td>\n",
       "    </tr>\n",
       "    <tr>\n",
       "      <th>1</th>\n",
       "      <td>558997776694438</td>\n",
       "      <td>5642503</td>\n",
       "      <td>M</td>\n",
       "      <td>2016-04-29</td>\n",
       "      <td>2016-04-29</td>\n",
       "      <td>56</td>\n",
       "      <td>JARDIM DA PENHA</td>\n",
       "      <td>0</td>\n",
       "      <td>0</td>\n",
       "      <td>0</td>\n",
       "      <td>0</td>\n",
       "      <td>0</td>\n",
       "      <td>0</td>\n",
       "      <td>No</td>\n",
       "    </tr>\n",
       "    <tr>\n",
       "      <th>2</th>\n",
       "      <td>4262962299951</td>\n",
       "      <td>5642549</td>\n",
       "      <td>F</td>\n",
       "      <td>2016-04-29</td>\n",
       "      <td>2016-04-29</td>\n",
       "      <td>62</td>\n",
       "      <td>MATA DA PRAIA</td>\n",
       "      <td>0</td>\n",
       "      <td>0</td>\n",
       "      <td>0</td>\n",
       "      <td>0</td>\n",
       "      <td>0</td>\n",
       "      <td>0</td>\n",
       "      <td>No</td>\n",
       "    </tr>\n",
       "    <tr>\n",
       "      <th>3</th>\n",
       "      <td>867951213174</td>\n",
       "      <td>5642828</td>\n",
       "      <td>F</td>\n",
       "      <td>2016-04-29</td>\n",
       "      <td>2016-04-29</td>\n",
       "      <td>8</td>\n",
       "      <td>PONTAL DE CAMBURI</td>\n",
       "      <td>0</td>\n",
       "      <td>0</td>\n",
       "      <td>0</td>\n",
       "      <td>0</td>\n",
       "      <td>0</td>\n",
       "      <td>0</td>\n",
       "      <td>No</td>\n",
       "    </tr>\n",
       "    <tr>\n",
       "      <th>4</th>\n",
       "      <td>8841186448183</td>\n",
       "      <td>5642494</td>\n",
       "      <td>F</td>\n",
       "      <td>2016-04-29</td>\n",
       "      <td>2016-04-29</td>\n",
       "      <td>56</td>\n",
       "      <td>JARDIM DA PENHA</td>\n",
       "      <td>0</td>\n",
       "      <td>1</td>\n",
       "      <td>1</td>\n",
       "      <td>0</td>\n",
       "      <td>0</td>\n",
       "      <td>0</td>\n",
       "      <td>No</td>\n",
       "    </tr>\n",
       "  </tbody>\n",
       "</table>\n",
       "</div>"
      ],
      "text/plain": [
       "         PatientId  AppointmentID Gender ScheduledDay AppointmentDay  Age  \\\n",
       "0   29872499824296        5642903      F   2016-04-29     2016-04-29   62   \n",
       "1  558997776694438        5642503      M   2016-04-29     2016-04-29   56   \n",
       "2    4262962299951        5642549      F   2016-04-29     2016-04-29   62   \n",
       "3     867951213174        5642828      F   2016-04-29     2016-04-29    8   \n",
       "4    8841186448183        5642494      F   2016-04-29     2016-04-29   56   \n",
       "\n",
       "       Neighbourhood  Scholarship  Hypertension  Diabetes  Alcoholism  \\\n",
       "0    JARDIM DA PENHA            0             1         0           0   \n",
       "1    JARDIM DA PENHA            0             0         0           0   \n",
       "2      MATA DA PRAIA            0             0         0           0   \n",
       "3  PONTAL DE CAMBURI            0             0         0           0   \n",
       "4    JARDIM DA PENHA            0             1         1           0   \n",
       "\n",
       "   Handicap  SMSReceived NoShow  \n",
       "0         0            0     No  \n",
       "1         0            0     No  \n",
       "2         0            0     No  \n",
       "3         0            0     No  \n",
       "4         0            0     No  "
      ]
     },
     "execution_count": 11,
     "metadata": {},
     "output_type": "execute_result"
    }
   ],
   "source": [
    "df.head()"
   ]
  },
  {
   "cell_type": "markdown",
   "metadata": {
    "_cell_guid": "6a9283ee-7ad3-4bdf-9321-4d96e02b1184",
    "_uuid": "a2736f68d2e24903fd463eab741a657e1312b8ee"
   },
   "source": [
    "### 5. Data Wrangling, Feature Engineering and EDA"
   ]
  },
  {
   "cell_type": "code",
   "execution_count": 12,
   "metadata": {
    "_cell_guid": "83fca210-81b7-4dc5-a74b-156d17dccbe7",
    "_uuid": "3d89ec992efb47b4bc9895cd4143597d5108e001"
   },
   "outputs": [
    {
     "name": "stdout",
     "output_type": "stream",
     "text": [
      "Features in the DataFrame => ['PatientId' 'AppointmentID' 'Gender' 'ScheduledDay' 'AppointmentDay'\n",
      " 'Age' 'Neighbourhood' 'Scholarship' 'Hypertension' 'Diabetes'\n",
      " 'Alcoholism' 'Handicap' 'SMSReceived' 'NoShow']\n"
     ]
    }
   ],
   "source": [
    "print(\"Features in the DataFrame => {}\".format(df.columns.ravel()))"
   ]
  },
  {
   "cell_type": "markdown",
   "metadata": {
    "_cell_guid": "3fb1b17d-3792-474c-90ac-379e3a992c07",
    "_uuid": "2592a7aa0640a2179b25db34f0a1882050c3a55d"
   },
   "source": [
    "From the above Info of the DataFrame and the sample data we can see that there are 14 columns in total.\n",
    "\n",
    " - There are 13 Independent Variables -> ['PatientId' 'AppointmentID' 'Gender' 'ScheduledDay' 'AppointmentDay' 'Age' 'Neighbourhood' 'Scholarship' 'Hypertension' 'Diabetes' 'Alcoholism' 'Handicap' 'SMSReceived']\n",
    " - The Dependent Variable is -> ['NoShow']"
   ]
  },
  {
   "cell_type": "markdown",
   "metadata": {
    "_cell_guid": "44f8d472-8224-4710-92b4-ca1e51797b92",
    "_uuid": "c9bb78375b095090f0109f4a9acbffa9c288996c"
   },
   "source": [
    "Below, we will drop 'PatientId' and 'AppointmentID' from the dataframe as they are just some system genrated numbers and shouldn't be used for predicting the dependent variable."
   ]
  },
  {
   "cell_type": "code",
   "execution_count": 19,
   "metadata": {
    "_cell_guid": "69dd6e6f-d1a3-48cc-98d6-994c2fba697e",
    "_uuid": "4565123518ee58aa788164f83bea4940a8190805"
   },
   "outputs": [
    {
     "ename": "KeyError",
     "evalue": "\"['PatientId' 'AppointmentID'] not found in axis\"",
     "output_type": "error",
     "traceback": [
      "\u001b[1;31m---------------------------------------------------------------------------\u001b[0m",
      "\u001b[1;31mKeyError\u001b[0m                                  Traceback (most recent call last)",
      "\u001b[1;32m<ipython-input-19-95d79f38e8c9>\u001b[0m in \u001b[0;36m<module>\u001b[1;34m()\u001b[0m\n\u001b[0;32m      1\u001b[0m \u001b[1;31m# Drop 'PatientId' and 'AppointmentID' as they are just some system genrated numbers.\u001b[0m\u001b[1;33m\u001b[0m\u001b[1;33m\u001b[0m\u001b[0m\n\u001b[1;32m----> 2\u001b[1;33m \u001b[0mdf\u001b[0m\u001b[1;33m.\u001b[0m\u001b[0mdrop\u001b[0m\u001b[1;33m(\u001b[0m\u001b[1;33m[\u001b[0m\u001b[1;34m'PatientId'\u001b[0m\u001b[1;33m,\u001b[0m \u001b[1;34m'AppointmentID'\u001b[0m\u001b[1;33m]\u001b[0m\u001b[1;33m,\u001b[0m \u001b[0maxis\u001b[0m\u001b[1;33m=\u001b[0m\u001b[1;36m1\u001b[0m\u001b[1;33m,\u001b[0m \u001b[0minplace\u001b[0m\u001b[1;33m=\u001b[0m\u001b[1;32mTrue\u001b[0m\u001b[1;33m)\u001b[0m\u001b[1;33m\u001b[0m\u001b[0m\n\u001b[0m",
      "\u001b[1;32m~\\Anaconda3\\lib\\site-packages\\pandas\\core\\frame.py\u001b[0m in \u001b[0;36mdrop\u001b[1;34m(self, labels, axis, index, columns, level, inplace, errors)\u001b[0m\n\u001b[0;32m   3695\u001b[0m                                            \u001b[0mindex\u001b[0m\u001b[1;33m=\u001b[0m\u001b[0mindex\u001b[0m\u001b[1;33m,\u001b[0m \u001b[0mcolumns\u001b[0m\u001b[1;33m=\u001b[0m\u001b[0mcolumns\u001b[0m\u001b[1;33m,\u001b[0m\u001b[1;33m\u001b[0m\u001b[0m\n\u001b[0;32m   3696\u001b[0m                                            \u001b[0mlevel\u001b[0m\u001b[1;33m=\u001b[0m\u001b[0mlevel\u001b[0m\u001b[1;33m,\u001b[0m \u001b[0minplace\u001b[0m\u001b[1;33m=\u001b[0m\u001b[0minplace\u001b[0m\u001b[1;33m,\u001b[0m\u001b[1;33m\u001b[0m\u001b[0m\n\u001b[1;32m-> 3697\u001b[1;33m                                            errors=errors)\n\u001b[0m\u001b[0;32m   3698\u001b[0m \u001b[1;33m\u001b[0m\u001b[0m\n\u001b[0;32m   3699\u001b[0m     @rewrite_axis_style_signature('mapper', [('copy', True),\n",
      "\u001b[1;32m~\\Anaconda3\\lib\\site-packages\\pandas\\core\\generic.py\u001b[0m in \u001b[0;36mdrop\u001b[1;34m(self, labels, axis, index, columns, level, inplace, errors)\u001b[0m\n\u001b[0;32m   3109\u001b[0m         \u001b[1;32mfor\u001b[0m \u001b[0maxis\u001b[0m\u001b[1;33m,\u001b[0m \u001b[0mlabels\u001b[0m \u001b[1;32min\u001b[0m \u001b[0maxes\u001b[0m\u001b[1;33m.\u001b[0m\u001b[0mitems\u001b[0m\u001b[1;33m(\u001b[0m\u001b[1;33m)\u001b[0m\u001b[1;33m:\u001b[0m\u001b[1;33m\u001b[0m\u001b[0m\n\u001b[0;32m   3110\u001b[0m             \u001b[1;32mif\u001b[0m \u001b[0mlabels\u001b[0m \u001b[1;32mis\u001b[0m \u001b[1;32mnot\u001b[0m \u001b[1;32mNone\u001b[0m\u001b[1;33m:\u001b[0m\u001b[1;33m\u001b[0m\u001b[0m\n\u001b[1;32m-> 3111\u001b[1;33m                 \u001b[0mobj\u001b[0m \u001b[1;33m=\u001b[0m \u001b[0mobj\u001b[0m\u001b[1;33m.\u001b[0m\u001b[0m_drop_axis\u001b[0m\u001b[1;33m(\u001b[0m\u001b[0mlabels\u001b[0m\u001b[1;33m,\u001b[0m \u001b[0maxis\u001b[0m\u001b[1;33m,\u001b[0m \u001b[0mlevel\u001b[0m\u001b[1;33m=\u001b[0m\u001b[0mlevel\u001b[0m\u001b[1;33m,\u001b[0m \u001b[0merrors\u001b[0m\u001b[1;33m=\u001b[0m\u001b[0merrors\u001b[0m\u001b[1;33m)\u001b[0m\u001b[1;33m\u001b[0m\u001b[0m\n\u001b[0m\u001b[0;32m   3112\u001b[0m \u001b[1;33m\u001b[0m\u001b[0m\n\u001b[0;32m   3113\u001b[0m         \u001b[1;32mif\u001b[0m \u001b[0minplace\u001b[0m\u001b[1;33m:\u001b[0m\u001b[1;33m\u001b[0m\u001b[0m\n",
      "\u001b[1;32m~\\Anaconda3\\lib\\site-packages\\pandas\\core\\generic.py\u001b[0m in \u001b[0;36m_drop_axis\u001b[1;34m(self, labels, axis, level, errors)\u001b[0m\n\u001b[0;32m   3141\u001b[0m                 \u001b[0mnew_axis\u001b[0m \u001b[1;33m=\u001b[0m \u001b[0maxis\u001b[0m\u001b[1;33m.\u001b[0m\u001b[0mdrop\u001b[0m\u001b[1;33m(\u001b[0m\u001b[0mlabels\u001b[0m\u001b[1;33m,\u001b[0m \u001b[0mlevel\u001b[0m\u001b[1;33m=\u001b[0m\u001b[0mlevel\u001b[0m\u001b[1;33m,\u001b[0m \u001b[0merrors\u001b[0m\u001b[1;33m=\u001b[0m\u001b[0merrors\u001b[0m\u001b[1;33m)\u001b[0m\u001b[1;33m\u001b[0m\u001b[0m\n\u001b[0;32m   3142\u001b[0m             \u001b[1;32melse\u001b[0m\u001b[1;33m:\u001b[0m\u001b[1;33m\u001b[0m\u001b[0m\n\u001b[1;32m-> 3143\u001b[1;33m                 \u001b[0mnew_axis\u001b[0m \u001b[1;33m=\u001b[0m \u001b[0maxis\u001b[0m\u001b[1;33m.\u001b[0m\u001b[0mdrop\u001b[0m\u001b[1;33m(\u001b[0m\u001b[0mlabels\u001b[0m\u001b[1;33m,\u001b[0m \u001b[0merrors\u001b[0m\u001b[1;33m=\u001b[0m\u001b[0merrors\u001b[0m\u001b[1;33m)\u001b[0m\u001b[1;33m\u001b[0m\u001b[0m\n\u001b[0m\u001b[0;32m   3144\u001b[0m             \u001b[0mresult\u001b[0m \u001b[1;33m=\u001b[0m \u001b[0mself\u001b[0m\u001b[1;33m.\u001b[0m\u001b[0mreindex\u001b[0m\u001b[1;33m(\u001b[0m\u001b[1;33m**\u001b[0m\u001b[1;33m{\u001b[0m\u001b[0maxis_name\u001b[0m\u001b[1;33m:\u001b[0m \u001b[0mnew_axis\u001b[0m\u001b[1;33m}\u001b[0m\u001b[1;33m)\u001b[0m\u001b[1;33m\u001b[0m\u001b[0m\n\u001b[0;32m   3145\u001b[0m \u001b[1;33m\u001b[0m\u001b[0m\n",
      "\u001b[1;32m~\\Anaconda3\\lib\\site-packages\\pandas\\core\\indexes\\base.py\u001b[0m in \u001b[0;36mdrop\u001b[1;34m(self, labels, errors)\u001b[0m\n\u001b[0;32m   4402\u001b[0m             \u001b[1;32mif\u001b[0m \u001b[0merrors\u001b[0m \u001b[1;33m!=\u001b[0m \u001b[1;34m'ignore'\u001b[0m\u001b[1;33m:\u001b[0m\u001b[1;33m\u001b[0m\u001b[0m\n\u001b[0;32m   4403\u001b[0m                 raise KeyError(\n\u001b[1;32m-> 4404\u001b[1;33m                     '{} not found in axis'.format(labels[mask]))\n\u001b[0m\u001b[0;32m   4405\u001b[0m             \u001b[0mindexer\u001b[0m \u001b[1;33m=\u001b[0m \u001b[0mindexer\u001b[0m\u001b[1;33m[\u001b[0m\u001b[1;33m~\u001b[0m\u001b[0mmask\u001b[0m\u001b[1;33m]\u001b[0m\u001b[1;33m\u001b[0m\u001b[0m\n\u001b[0;32m   4406\u001b[0m         \u001b[1;32mreturn\u001b[0m \u001b[0mself\u001b[0m\u001b[1;33m.\u001b[0m\u001b[0mdelete\u001b[0m\u001b[1;33m(\u001b[0m\u001b[0mindexer\u001b[0m\u001b[1;33m)\u001b[0m\u001b[1;33m\u001b[0m\u001b[0m\n",
      "\u001b[1;31mKeyError\u001b[0m: \"['PatientId' 'AppointmentID'] not found in axis\""
     ]
    }
   ],
   "source": [
    "# Drop 'PatientId' and 'AppointmentID' as they are just some system genrated numbers.\n",
    "df.drop(['PatientId', 'AppointmentID'], axis=1, inplace=True)"
   ]
  },
  {
   "cell_type": "code",
   "execution_count": 14,
   "metadata": {
    "_cell_guid": "ffcd82c9-4359-4586-a992-4dfba7acf43a",
    "_uuid": "0cec5986ed4b1cf5d88f33f784b41509b2d20593"
   },
   "outputs": [
    {
     "name": "stdout",
     "output_type": "stream",
     "text": [
      "Unique Values in `Gender` => ['F' 'M']\n",
      "Unique Values in `Scholarship` => [0 1]\n",
      "Unique Values in `Hypertension` => [1 0]\n",
      "Unique Values in `Diabetes` => [0 1]\n",
      "Unique Values in `Alcoholism` => [0 1]\n",
      "Unique Values in `Handicap` => [0 1 2 3 4]\n",
      "Unique Values in `SMSReceived` => [0 1]\n"
     ]
    }
   ],
   "source": [
    "# Print Unique Values\n",
    "print(\"Unique Values in `Gender` => {}\".format(df.Gender.unique()))\n",
    "print(\"Unique Values in `Scholarship` => {}\".format(df.Scholarship.unique()))\n",
    "print(\"Unique Values in `Hypertension` => {}\".format(df.Hypertension.unique()))\n",
    "print(\"Unique Values in `Diabetes` => {}\".format(df.Diabetes.unique()))\n",
    "print(\"Unique Values in `Alcoholism` => {}\".format(df.Alcoholism.unique()))\n",
    "print(\"Unique Values in `Handicap` => {}\".format(df.Handicap.unique()))\n",
    "print(\"Unique Values in `SMSReceived` => {}\".format(df.SMSReceived.unique()))"
   ]
  },
  {
   "cell_type": "markdown",
   "metadata": {
    "_cell_guid": "f800d461-2f66-4137-bea5-a388606fa552",
    "_uuid": "1771bda3e41886d91ce5a83ffa14933777c04fdd"
   },
   "source": [
    "From the above detail we can see that except for `Handicap` which has four values and `Gender` which has 'M' and 'F' all the other features have 'Yes' or 'No' kind of values. So, we will convert those columns to `'object'` type."
   ]
  },
  {
   "cell_type": "code",
   "execution_count": 20,
   "metadata": {
    "_cell_guid": "2dfe26f3-5823-4df1-ab72-00479d0e80f0",
    "_uuid": "ea9da2de820ada5be8a2547e70c890c82606ca3e"
   },
   "outputs": [],
   "source": [
    "df['Scholarship'] = df['Scholarship'].astype('object')\n",
    "df['Hypertension'] = df['Hypertension'].astype('object')\n",
    "df['Diabetes'] = df['Diabetes'].astype('object')\n",
    "df['Alcoholism'] = df['Alcoholism'].astype('object')\n",
    "df['Handicap'] = df['Handicap'].astype('object')\n",
    "df['SMSReceived'] = df['SMSReceived'].astype('object')"
   ]
  },
  {
   "cell_type": "code",
   "execution_count": 21,
   "metadata": {
    "_cell_guid": "a79c7724-ada9-41dd-ac1f-870b5dd605b2",
    "_uuid": "99d6cb22b5586be42f7531d8b6ba26e59349701b"
   },
   "outputs": [
    {
     "name": "stdout",
     "output_type": "stream",
     "text": [
      "<class 'pandas.core.frame.DataFrame'>\n",
      "RangeIndex: 110527 entries, 0 to 110526\n",
      "Data columns (total 12 columns):\n",
      "Gender            110527 non-null object\n",
      "ScheduledDay      110527 non-null datetime64[ns]\n",
      "AppointmentDay    110527 non-null datetime64[ns]\n",
      "Age               110527 non-null int64\n",
      "Neighbourhood     110527 non-null object\n",
      "Scholarship       110527 non-null object\n",
      "Hypertension      110527 non-null object\n",
      "Diabetes          110527 non-null object\n",
      "Alcoholism        110527 non-null object\n",
      "Handicap          110527 non-null object\n",
      "SMSReceived       110527 non-null object\n",
      "NoShow            110527 non-null object\n",
      "dtypes: datetime64[ns](2), int64(1), object(9)\n",
      "memory usage: 10.1+ MB\n"
     ]
    }
   ],
   "source": [
    "df.info()"
   ]
  },
  {
   "cell_type": "code",
   "execution_count": 22,
   "metadata": {
    "_cell_guid": "443c0777-3c7b-4a37-88b8-acc194491749",
    "_uuid": "7d407b443017dacb5261ed06633d3af9a1f875a4"
   },
   "outputs": [
    {
     "data": {
      "text/html": [
       "<div>\n",
       "<style scoped>\n",
       "    .dataframe tbody tr th:only-of-type {\n",
       "        vertical-align: middle;\n",
       "    }\n",
       "\n",
       "    .dataframe tbody tr th {\n",
       "        vertical-align: top;\n",
       "    }\n",
       "\n",
       "    .dataframe thead th {\n",
       "        text-align: right;\n",
       "    }\n",
       "</style>\n",
       "<table border=\"1\" class=\"dataframe\">\n",
       "  <thead>\n",
       "    <tr style=\"text-align: right;\">\n",
       "      <th></th>\n",
       "      <th>Gender</th>\n",
       "      <th>ScheduledDay</th>\n",
       "      <th>AppointmentDay</th>\n",
       "      <th>Age</th>\n",
       "      <th>Neighbourhood</th>\n",
       "      <th>Scholarship</th>\n",
       "      <th>Hypertension</th>\n",
       "      <th>Diabetes</th>\n",
       "      <th>Alcoholism</th>\n",
       "      <th>Handicap</th>\n",
       "      <th>SMSReceived</th>\n",
       "      <th>NoShow</th>\n",
       "    </tr>\n",
       "  </thead>\n",
       "  <tbody>\n",
       "    <tr>\n",
       "      <th>99778</th>\n",
       "      <td>M</td>\n",
       "      <td>2016-06-02</td>\n",
       "      <td>2016-06-02</td>\n",
       "      <td>1</td>\n",
       "      <td>ROMÃO</td>\n",
       "      <td>0</td>\n",
       "      <td>0</td>\n",
       "      <td>0</td>\n",
       "      <td>0</td>\n",
       "      <td>0</td>\n",
       "      <td>0</td>\n",
       "      <td>No</td>\n",
       "    </tr>\n",
       "    <tr>\n",
       "      <th>30575</th>\n",
       "      <td>M</td>\n",
       "      <td>2016-05-03</td>\n",
       "      <td>2016-05-19</td>\n",
       "      <td>6</td>\n",
       "      <td>CENTRO</td>\n",
       "      <td>0</td>\n",
       "      <td>0</td>\n",
       "      <td>0</td>\n",
       "      <td>0</td>\n",
       "      <td>0</td>\n",
       "      <td>0</td>\n",
       "      <td>Yes</td>\n",
       "    </tr>\n",
       "    <tr>\n",
       "      <th>64438</th>\n",
       "      <td>F</td>\n",
       "      <td>2016-05-02</td>\n",
       "      <td>2016-05-13</td>\n",
       "      <td>67</td>\n",
       "      <td>JARDIM CAMBURI</td>\n",
       "      <td>0</td>\n",
       "      <td>0</td>\n",
       "      <td>0</td>\n",
       "      <td>0</td>\n",
       "      <td>0</td>\n",
       "      <td>0</td>\n",
       "      <td>Yes</td>\n",
       "    </tr>\n",
       "    <tr>\n",
       "      <th>17016</th>\n",
       "      <td>M</td>\n",
       "      <td>2016-05-24</td>\n",
       "      <td>2016-05-24</td>\n",
       "      <td>1</td>\n",
       "      <td>RESISTÊNCIA</td>\n",
       "      <td>0</td>\n",
       "      <td>0</td>\n",
       "      <td>0</td>\n",
       "      <td>0</td>\n",
       "      <td>0</td>\n",
       "      <td>0</td>\n",
       "      <td>No</td>\n",
       "    </tr>\n",
       "    <tr>\n",
       "      <th>44577</th>\n",
       "      <td>F</td>\n",
       "      <td>2016-04-26</td>\n",
       "      <td>2016-05-02</td>\n",
       "      <td>22</td>\n",
       "      <td>GURIGICA</td>\n",
       "      <td>1</td>\n",
       "      <td>0</td>\n",
       "      <td>0</td>\n",
       "      <td>0</td>\n",
       "      <td>0</td>\n",
       "      <td>0</td>\n",
       "      <td>Yes</td>\n",
       "    </tr>\n",
       "  </tbody>\n",
       "</table>\n",
       "</div>"
      ],
      "text/plain": [
       "      Gender ScheduledDay AppointmentDay  Age   Neighbourhood Scholarship  \\\n",
       "99778      M   2016-06-02     2016-06-02    1           ROMÃO           0   \n",
       "30575      M   2016-05-03     2016-05-19    6          CENTRO           0   \n",
       "64438      F   2016-05-02     2016-05-13   67  JARDIM CAMBURI           0   \n",
       "17016      M   2016-05-24     2016-05-24    1     RESISTÊNCIA           0   \n",
       "44577      F   2016-04-26     2016-05-02   22        GURIGICA           1   \n",
       "\n",
       "      Hypertension Diabetes Alcoholism Handicap SMSReceived NoShow  \n",
       "99778            0        0          0        0           0     No  \n",
       "30575            0        0          0        0           0    Yes  \n",
       "64438            0        0          0        0           0    Yes  \n",
       "17016            0        0          0        0           0     No  \n",
       "44577            0        0          0        0           0    Yes  "
      ]
     },
     "execution_count": 22,
     "metadata": {},
     "output_type": "execute_result"
    }
   ],
   "source": [
    "# Print some sample data\n",
    "df.sample(n=5)"
   ]
  },
  {
   "cell_type": "code",
   "execution_count": 18,
   "metadata": {
    "_cell_guid": "905a351f-6144-4aff-a75a-65e6a54693bf",
    "_uuid": "35b13ca767eef9ee8441ffd1f50d3e4abb99610e"
   },
   "outputs": [
    {
     "name": "stdout",
     "output_type": "stream",
     "text": [
      "Unique Values in `Age` => [ -1   0   1   2   3   4   5   6   7   8   9  10  11  12  13  14  15  16\n",
      "  17  18  19  20  21  22  23  24  25  26  27  28  29  30  31  32  33  34\n",
      "  35  36  37  38  39  40  41  42  43  44  45  46  47  48  49  50  51  52\n",
      "  53  54  55  56  57  58  59  60  61  62  63  64  65  66  67  68  69  70\n",
      "  71  72  73  74  75  76  77  78  79  80  81  82  83  84  85  86  87  88\n",
      "  89  90  91  92  93  94  95  96  97  98  99 100 102 115]\n"
     ]
    }
   ],
   "source": [
    "# Print Unique Values for 'Age'\n",
    "print(\"Unique Values in `Age` => {}\".format(np.sort(df.Age.unique())))"
   ]
  },
  {
   "cell_type": "markdown",
   "metadata": {
    "_cell_guid": "6b8ffd2d-c175-4156-965d-1f3166c9108a",
    "_uuid": "90ba927c57bcf3d07c004643c6eec57fc02eab89"
   },
   "source": [
    "In the below code we will check few details about the patients with `Age` `0` and `-1`."
   ]
  },
  {
   "cell_type": "code",
   "execution_count": 23,
   "metadata": {
    "_cell_guid": "4bb57b7e-3191-48cf-81bb-579d69fa134c",
    "_uuid": "efd5d78e5ca8341e5f45ac8a35fb6ed872a0995c"
   },
   "outputs": [
    {
     "name": "stdout",
     "output_type": "stream",
     "text": [
      "Patients with `Age` less than -1 -> 1\n",
      "Patients with `Age` equal to 0 -> 3539\n"
     ]
    }
   ],
   "source": [
    "print(\"Patients with `Age` less than -1 -> {}\".format(df[df.Age == -1].shape[0]))\n",
    "print(\"Patients with `Age` equal to 0 -> {}\".format(df[df.Age == 0].shape[0]))"
   ]
  },
  {
   "cell_type": "markdown",
   "metadata": {
    "_cell_guid": "3e488633-69af-4d8b-bb23-d3c4e656f452",
    "_uuid": "efa85fffa0e002ddb98e21837aa89d724261b272"
   },
   "source": [
    "As there is only 1 patient with `Age` less than 0 we will delete that record assuming that they was a typo."
   ]
  },
  {
   "cell_type": "code",
   "execution_count": 24,
   "metadata": {
    "_cell_guid": "4a480734-e53b-43ed-8f0c-f00f8085b1fe",
    "_uuid": "1092cbba47b536ae26f5801807a37a46b37f6c33"
   },
   "outputs": [],
   "source": [
    "df = df[df.Age >= 0]"
   ]
  },
  {
   "cell_type": "markdown",
   "metadata": {
    "_cell_guid": "e1866faa-5565-4ef3-a319-ead4deeacfbf",
    "_uuid": "75c5760d0e81fed560119fb22eb623aa8a9175c2"
   },
   "source": [
    "As we have 3539 patients with `Age` equal to 0 we are assuming that these are the small babies with few months of Age. Usually as babies doesn't have `Hypertension` or `Diabetes` or `Alcoholism` we will check these features for the above records to see if our assumption is correct."
   ]
  },
  {
   "cell_type": "code",
   "execution_count": 27,
   "metadata": {
    "_cell_guid": "ec991ca0-ddf1-409e-ad4d-5db684432fdb",
    "_uuid": "ec5fe0519be5b181d010f7c017235af8f95d6f14"
   },
   "outputs": [
    {
     "data": {
      "text/html": [
       "<div>\n",
       "<style scoped>\n",
       "    .dataframe tbody tr th:only-of-type {\n",
       "        vertical-align: middle;\n",
       "    }\n",
       "\n",
       "    .dataframe tbody tr th {\n",
       "        vertical-align: top;\n",
       "    }\n",
       "\n",
       "    .dataframe thead th {\n",
       "        text-align: right;\n",
       "    }\n",
       "</style>\n",
       "<table border=\"1\" class=\"dataframe\">\n",
       "  <thead>\n",
       "    <tr style=\"text-align: right;\">\n",
       "      <th></th>\n",
       "      <th>Gender</th>\n",
       "      <th>ScheduledDay</th>\n",
       "      <th>AppointmentDay</th>\n",
       "      <th>Age</th>\n",
       "      <th>Neighbourhood</th>\n",
       "      <th>Scholarship</th>\n",
       "      <th>Hypertension</th>\n",
       "      <th>Diabetes</th>\n",
       "      <th>Alcoholism</th>\n",
       "      <th>Handicap</th>\n",
       "      <th>SMSReceived</th>\n",
       "      <th>NoShow</th>\n",
       "    </tr>\n",
       "  </thead>\n",
       "  <tbody>\n",
       "  </tbody>\n",
       "</table>\n",
       "</div>"
      ],
      "text/plain": [
       "Empty DataFrame\n",
       "Columns: [Gender, ScheduledDay, AppointmentDay, Age, Neighbourhood, Scholarship, Hypertension, Diabetes, Alcoholism, Handicap, SMSReceived, NoShow]\n",
       "Index: []"
      ]
     },
     "execution_count": 27,
     "metadata": {},
     "output_type": "execute_result"
    }
   ],
   "source": [
    "df[(df.Age <= 0) & ((df.Hypertension.astype(int) == 1) | (df.Diabetes.astype(int) == 1) | (df.Alcoholism.astype(int) == 1))]"
   ]
  },
  {
   "cell_type": "markdown",
   "metadata": {
    "_cell_guid": "7150c021-c20a-4ad0-ad33-0a84ac17dd96",
    "_uuid": "e22c9caf78c462758c30c1c4c641ffb23d2f76e4"
   },
   "source": [
    "As we have no records above, we will confirm our conclusion that `Age` value of 0 indeed represents babies who are just few months old."
   ]
  },
  {
   "cell_type": "code",
   "execution_count": 28,
   "metadata": {
    "_cell_guid": "fb37b79e-b8d6-4567-b559-1ced8438ce30",
    "_uuid": "2000addf504bac57b561ba408add6645bfbfa9e8"
   },
   "outputs": [
    {
     "name": "stdout",
     "output_type": "stream",
     "text": [
      "Unique Values in `ScheduledDay` => ['2015-11-10' '2015-12-03' '2015-12-07' '2015-12-08' '2015-12-14'\n",
      " '2015-12-15' '2016-01-04' '2016-01-05' '2016-01-07' '2016-01-11'\n",
      " '2016-01-13' '2016-01-14' '2016-01-19' '2016-01-20' '2016-01-21'\n",
      " '2016-01-22' '2016-01-25' '2016-01-26' '2016-01-27' '2016-01-28'\n",
      " '2016-01-29' '2016-02-01' '2016-02-02' '2016-02-03' '2016-02-04'\n",
      " '2016-02-05' '2016-02-11' '2016-02-12' '2016-02-15' '2016-02-16'\n",
      " '2016-02-17' '2016-02-18' '2016-02-19' '2016-02-22' '2016-02-23'\n",
      " '2016-02-24' '2016-02-25' '2016-02-26' '2016-02-29' '2016-03-01'\n",
      " '2016-03-02' '2016-03-03' '2016-03-04' '2016-03-05' '2016-03-07'\n",
      " '2016-03-08' '2016-03-09' '2016-03-10' '2016-03-11' '2016-03-14'\n",
      " '2016-03-15' '2016-03-16' '2016-03-17' '2016-03-18' '2016-03-19'\n",
      " '2016-03-21' '2016-03-22' '2016-03-23' '2016-03-28' '2016-03-29'\n",
      " '2016-03-30' '2016-03-31' '2016-04-01' '2016-04-05' '2016-04-06'\n",
      " '2016-04-07' '2016-04-08' '2016-04-09' '2016-04-11' '2016-04-12'\n",
      " '2016-04-13' '2016-04-14' '2016-04-15' '2016-04-16' '2016-04-18'\n",
      " '2016-04-19' '2016-04-20' '2016-04-25' '2016-04-26' '2016-04-27'\n",
      " '2016-04-28' '2016-04-29' '2016-04-30' '2016-05-02' '2016-05-03'\n",
      " '2016-05-04' '2016-05-05' '2016-05-06' '2016-05-07' '2016-05-09'\n",
      " '2016-05-10' '2016-05-11' '2016-05-12' '2016-05-13' '2016-05-14'\n",
      " '2016-05-16' '2016-05-17' '2016-05-18' '2016-05-19' '2016-05-20'\n",
      " '2016-05-24' '2016-05-25' '2016-05-30' '2016-05-31' '2016-06-01'\n",
      " '2016-06-02' '2016-06-03' '2016-06-04' '2016-06-06' '2016-06-07'\n",
      " '2016-06-08']\n"
     ]
    }
   ],
   "source": [
    "# Print Unique Values for 'ScheduledDay'\n",
    "print(\"Unique Values in `ScheduledDay` => {}\".format(np.sort(df.ScheduledDay.dt.strftime('%Y-%m-%d').unique())))"
   ]
  },
  {
   "cell_type": "markdown",
   "metadata": {
    "_cell_guid": "112b4597-9a77-495a-b07d-7c1f1bdc1efc",
    "_uuid": "25967432e17993c8010a8bdafebfa74eb70b4ae5"
   },
   "source": [
    "We can see from the above details that the `ScheduledDay` for appointments are ranging from **2015-11-10** to **2016-06-08** and that's around 7 months of data."
   ]
  },
  {
   "cell_type": "code",
   "execution_count": 29,
   "metadata": {
    "_cell_guid": "8128a416-ba6c-40dd-accb-91be6a03a17f",
    "_uuid": "1123496123477d0014457e76f67dec7f6a123451"
   },
   "outputs": [
    {
     "name": "stdout",
     "output_type": "stream",
     "text": [
      "Unique Values in `AppointmentDay` => ['2016-04-29' '2016-05-02' '2016-05-03' '2016-05-04' '2016-05-05'\n",
      " '2016-05-06' '2016-05-09' '2016-05-10' '2016-05-11' '2016-05-12'\n",
      " '2016-05-13' '2016-05-14' '2016-05-16' '2016-05-17' '2016-05-18'\n",
      " '2016-05-19' '2016-05-20' '2016-05-24' '2016-05-25' '2016-05-30'\n",
      " '2016-05-31' '2016-06-01' '2016-06-02' '2016-06-03' '2016-06-06'\n",
      " '2016-06-07' '2016-06-08']\n"
     ]
    }
   ],
   "source": [
    "# Print Unique Values for 'AppointmentDay'\n",
    "print(\"Unique Values in `AppointmentDay` => {}\".format(np.sort(df.AppointmentDay.dt.strftime('%Y-%m-%d').unique())))"
   ]
  },
  {
   "cell_type": "markdown",
   "metadata": {
    "_cell_guid": "af4e1fd5-bb00-42f8-92c3-5f19fef13f18",
    "_uuid": "df596aaa4757c1cd56ac61b63ce8ab668f7e063c"
   },
   "source": [
    "From the above detail we can see that `AppointmentDay` ranges from **2016-04-29** to **2016-06-08**. The `AppointmentDay` spans just above 1 Month in contrast to the `ScheduledDay` that spans around 7 Months."
   ]
  },
  {
   "cell_type": "code",
   "execution_count": 30,
   "metadata": {
    "_cell_guid": "21f1bfb9-ebeb-407c-b8a8-9a8d2529c8f4",
    "_uuid": "7609e6f2c6bc4a2d6bf43ed288df43b6652b1ff6"
   },
   "outputs": [
    {
     "name": "stdout",
     "output_type": "stream",
     "text": [
      "Unique Values in `Neighbourhood` => ['AEROPORTO' 'ANDORINHAS' 'ANTÔNIO HONÓRIO' 'ARIOVALDO FAVALESSA'\n",
      " 'BARRO VERMELHO' 'BELA VISTA' 'BENTO FERREIRA' 'BOA VISTA' 'BONFIM'\n",
      " 'CARATOÍRA' 'CENTRO' 'COMDUSA' 'CONQUISTA' 'CONSOLAÇÃO' 'CRUZAMENTO'\n",
      " 'DA PENHA' 'DE LOURDES' 'DO CABRAL' 'DO MOSCOSO' 'DO QUADRO'\n",
      " 'ENSEADA DO SUÁ' 'ESTRELINHA' 'FONTE GRANDE' 'FORTE SÃO JOÃO' 'FRADINHOS'\n",
      " 'GOIABEIRAS' 'GRANDE VITÓRIA' 'GURIGICA' 'HORTO' 'ILHA DAS CAIEIRAS'\n",
      " 'ILHA DE SANTA MARIA' 'ILHA DO BOI' 'ILHA DO FRADE' 'ILHA DO PRÍNCIPE'\n",
      " 'ILHAS OCEÂNICAS DE TRINDADE' 'INHANGUETÁ' 'ITARARÉ' 'JABOUR'\n",
      " 'JARDIM CAMBURI' 'JARDIM DA PENHA' 'JESUS DE NAZARETH' 'JOANA D´ARC'\n",
      " 'JUCUTUQUARA' 'MARIA ORTIZ' 'MARUÍPE' 'MATA DA PRAIA' 'MONTE BELO'\n",
      " 'MORADA DE CAMBURI' 'MÁRIO CYPRESTE' 'NAZARETH' 'NOVA PALESTINA'\n",
      " 'PARQUE INDUSTRIAL' 'PARQUE MOSCOSO' 'PIEDADE' 'PONTAL DE CAMBURI'\n",
      " 'PRAIA DO CANTO' 'PRAIA DO SUÁ' 'REDENÇÃO' 'REPÚBLICA' 'RESISTÊNCIA'\n",
      " 'ROMÃO' 'SANTA CECÍLIA' 'SANTA CLARA' 'SANTA HELENA' 'SANTA LUÍZA'\n",
      " 'SANTA LÚCIA' 'SANTA MARTHA' 'SANTA TEREZA' 'SANTO ANDRÉ' 'SANTO ANTÔNIO'\n",
      " 'SANTOS DUMONT' 'SANTOS REIS' 'SEGURANÇA DO LAR' 'SOLON BORGES'\n",
      " 'SÃO BENEDITO' 'SÃO CRISTÓVÃO' 'SÃO JOSÉ' 'SÃO PEDRO' 'TABUAZEIRO'\n",
      " 'UNIVERSITÁRIO' 'VILA RUBIM']\n"
     ]
    }
   ],
   "source": [
    "# Print Unique Values for 'Neighbourhood'\n",
    "print(\"Unique Values in `Neighbourhood` => {}\".format(np.sort(df.Neighbourhood.unique())))"
   ]
  },
  {
   "cell_type": "code",
   "execution_count": 31,
   "metadata": {
    "_cell_guid": "36581f7e-742b-4684-b630-8e5c43de6d84",
    "_uuid": "acb259fa3d847b864fea722428a3f8a2b8a69548"
   },
   "outputs": [
    {
     "name": "stdout",
     "output_type": "stream",
     "text": [
      "Total Count for `Neighbourhood` => 81\n"
     ]
    }
   ],
   "source": [
    "# Print Total Count for 'Neighbourhood'\n",
    "print(\"Total Count for `Neighbourhood` => {}\".format(df.Neighbourhood.unique().size))"
   ]
  },
  {
   "cell_type": "markdown",
   "metadata": {
    "_cell_guid": "c3719685-9bca-4253-890d-237469a46b49",
    "_uuid": "94db39442a08a8f2743458b95dcd1dac67905e6e"
   },
   "source": [
    "Get Day of the Week for `ScheduledDay` and `AppointmentDay` to see if there are many 'NoShows' over the weekends.\n",
    "Week for `ScheduledDay` and `AppointmentDay` also helps us to see if there is a particular pattern where most patients are coming for a visit."
   ]
  },
  {
   "cell_type": "code",
   "execution_count": 34,
   "metadata": {
    "_cell_guid": "1b908b11-98ae-4035-8fff-f5c2b63ea08c",
    "_uuid": "4f192d70685d0fc8ff2ecf915caef7000be67f97"
   },
   "outputs": [],
   "source": [
    "# Get Day of the Week for ScheduledDay and AppointmentDay\n",
    "df['ScheduledDay_DOW'] = df['ScheduledDay'].dt.dayofweek\n",
    "df['AppointmentDay_DOW'] = df['AppointmentDay'].dt.dayofweek"
   ]
  },
  {
   "cell_type": "markdown",
   "metadata": {
    "_cell_guid": "5105b1f0-75dd-432f-9e26-9ad31c61ee71",
    "_uuid": "b0861845ee3ec792c641f915abfadf97bcb7f41a"
   },
   "source": [
    "Ideally the `AppointmentDay` should be on or after the `ScheduledDay`. Below we will check if there are any records where there is an inconsistency. In case if the `ScheduledDay` is after the `AppointmentDay` we will consider it as an error and correct the `ScheduledDay` to the `AppointmentDay`."
   ]
  },
  {
   "cell_type": "code",
   "execution_count": 35,
   "metadata": {
    "_cell_guid": "6e819974-3870-4816-bd4b-53f97375ecad",
    "_uuid": "75b38136057197c3a2a21c6d88e25e5feaf05c88"
   },
   "outputs": [],
   "source": [
    "df['AppointmentDay'] = np.where((df['AppointmentDay'] - df['ScheduledDay']).dt.days < 0, df['ScheduledDay'], df['AppointmentDay'])\n",
    "\n",
    "# Get the Waiting Time in Days of the Patients.\n",
    "df['Waiting_Time_days'] = df['AppointmentDay'] - df['ScheduledDay']\n",
    "df['Waiting_Time_days'] = df['Waiting_Time_days'].dt.days"
   ]
  },
  {
   "cell_type": "code",
   "execution_count": 36,
   "metadata": {
    "_cell_guid": "223fd829-4c3b-475c-b3af-e982f15bc6a5",
    "_uuid": "79e0193de6687fae5d655ca61d8987d14fa39937"
   },
   "outputs": [
    {
     "name": "stdout",
     "output_type": "stream",
     "text": [
      "There are [0] records where the Waiting Time is less than Zero.\n"
     ]
    }
   ],
   "source": [
    "# Sanity check to see if the Waiting Time is less than Zero for any of the data points.\n",
    "print(\"There are [{}] records where the Waiting Time is less than Zero.\".format(df[df.Waiting_Time_days < 0].shape[0]))"
   ]
  },
  {
   "cell_type": "code",
   "execution_count": 37,
   "metadata": {
    "_cell_guid": "cc1e35e5-3c68-48dc-a35f-75f26ecb35af",
    "_uuid": "158277c1effef21858e9605fbcf9c2e9981dc811"
   },
   "outputs": [
    {
     "name": "stdout",
     "output_type": "stream",
     "text": [
      "<class 'pandas.core.frame.DataFrame'>\n",
      "Int64Index: 110526 entries, 0 to 110526\n",
      "Data columns (total 15 columns):\n",
      "Gender                110526 non-null object\n",
      "ScheduledDay          110526 non-null datetime64[ns]\n",
      "AppointmentDay        110526 non-null datetime64[ns]\n",
      "Age                   110526 non-null int64\n",
      "Neighbourhood         110526 non-null object\n",
      "Scholarship           110526 non-null object\n",
      "Hypertension          110526 non-null object\n",
      "Diabetes              110526 non-null object\n",
      "Alcoholism            110526 non-null object\n",
      "Handicap              110526 non-null object\n",
      "SMSReceived           110526 non-null object\n",
      "NoShow                110526 non-null object\n",
      "ScheduledDay_DOW      110526 non-null int64\n",
      "AppointmentDay_DOW    110526 non-null int64\n",
      "Waiting_Time_days     110526 non-null int64\n",
      "dtypes: datetime64[ns](2), int64(4), object(9)\n",
      "memory usage: 13.5+ MB\n"
     ]
    }
   ],
   "source": [
    "df.info()"
   ]
  },
  {
   "cell_type": "code",
   "execution_count": 38,
   "metadata": {
    "_cell_guid": "2938cc57-1f58-4868-b1e0-33ddf8eb9afa",
    "_uuid": "071217fb0cce59341c814a220bb8f810d5fe4d2d"
   },
   "outputs": [
    {
     "data": {
      "text/html": [
       "<div>\n",
       "<style scoped>\n",
       "    .dataframe tbody tr th:only-of-type {\n",
       "        vertical-align: middle;\n",
       "    }\n",
       "\n",
       "    .dataframe tbody tr th {\n",
       "        vertical-align: top;\n",
       "    }\n",
       "\n",
       "    .dataframe thead th {\n",
       "        text-align: right;\n",
       "    }\n",
       "</style>\n",
       "<table border=\"1\" class=\"dataframe\">\n",
       "  <thead>\n",
       "    <tr style=\"text-align: right;\">\n",
       "      <th></th>\n",
       "      <th>Gender</th>\n",
       "      <th>ScheduledDay</th>\n",
       "      <th>AppointmentDay</th>\n",
       "      <th>Age</th>\n",
       "      <th>Neighbourhood</th>\n",
       "      <th>Scholarship</th>\n",
       "      <th>Hypertension</th>\n",
       "      <th>Diabetes</th>\n",
       "      <th>Alcoholism</th>\n",
       "      <th>Handicap</th>\n",
       "      <th>SMSReceived</th>\n",
       "      <th>NoShow</th>\n",
       "      <th>ScheduledDay_DOW</th>\n",
       "      <th>AppointmentDay_DOW</th>\n",
       "      <th>Waiting_Time_days</th>\n",
       "    </tr>\n",
       "  </thead>\n",
       "  <tbody>\n",
       "    <tr>\n",
       "      <th>71035</th>\n",
       "      <td>F</td>\n",
       "      <td>2016-05-13</td>\n",
       "      <td>2016-05-13</td>\n",
       "      <td>51</td>\n",
       "      <td>CENTRO</td>\n",
       "      <td>0</td>\n",
       "      <td>0</td>\n",
       "      <td>0</td>\n",
       "      <td>0</td>\n",
       "      <td>0</td>\n",
       "      <td>0</td>\n",
       "      <td>No</td>\n",
       "      <td>4</td>\n",
       "      <td>4</td>\n",
       "      <td>0</td>\n",
       "    </tr>\n",
       "    <tr>\n",
       "      <th>58172</th>\n",
       "      <td>M</td>\n",
       "      <td>2016-05-02</td>\n",
       "      <td>2016-05-16</td>\n",
       "      <td>44</td>\n",
       "      <td>JARDIM DA PENHA</td>\n",
       "      <td>0</td>\n",
       "      <td>0</td>\n",
       "      <td>0</td>\n",
       "      <td>0</td>\n",
       "      <td>0</td>\n",
       "      <td>0</td>\n",
       "      <td>No</td>\n",
       "      <td>0</td>\n",
       "      <td>0</td>\n",
       "      <td>14</td>\n",
       "    </tr>\n",
       "    <tr>\n",
       "      <th>107143</th>\n",
       "      <td>F</td>\n",
       "      <td>2016-04-11</td>\n",
       "      <td>2016-06-02</td>\n",
       "      <td>60</td>\n",
       "      <td>ILHA DE SANTA MARIA</td>\n",
       "      <td>0</td>\n",
       "      <td>0</td>\n",
       "      <td>0</td>\n",
       "      <td>0</td>\n",
       "      <td>0</td>\n",
       "      <td>1</td>\n",
       "      <td>No</td>\n",
       "      <td>0</td>\n",
       "      <td>3</td>\n",
       "      <td>52</td>\n",
       "    </tr>\n",
       "    <tr>\n",
       "      <th>26605</th>\n",
       "      <td>M</td>\n",
       "      <td>2016-05-09</td>\n",
       "      <td>2016-05-09</td>\n",
       "      <td>3</td>\n",
       "      <td>SANTOS REIS</td>\n",
       "      <td>0</td>\n",
       "      <td>0</td>\n",
       "      <td>0</td>\n",
       "      <td>0</td>\n",
       "      <td>0</td>\n",
       "      <td>0</td>\n",
       "      <td>No</td>\n",
       "      <td>0</td>\n",
       "      <td>0</td>\n",
       "      <td>0</td>\n",
       "    </tr>\n",
       "    <tr>\n",
       "      <th>3523</th>\n",
       "      <td>F</td>\n",
       "      <td>2016-04-12</td>\n",
       "      <td>2016-05-30</td>\n",
       "      <td>41</td>\n",
       "      <td>RESISTÊNCIA</td>\n",
       "      <td>0</td>\n",
       "      <td>0</td>\n",
       "      <td>0</td>\n",
       "      <td>0</td>\n",
       "      <td>0</td>\n",
       "      <td>0</td>\n",
       "      <td>No</td>\n",
       "      <td>1</td>\n",
       "      <td>0</td>\n",
       "      <td>48</td>\n",
       "    </tr>\n",
       "    <tr>\n",
       "      <th>88484</th>\n",
       "      <td>M</td>\n",
       "      <td>2016-05-16</td>\n",
       "      <td>2016-06-06</td>\n",
       "      <td>14</td>\n",
       "      <td>ITARARÉ</td>\n",
       "      <td>0</td>\n",
       "      <td>0</td>\n",
       "      <td>0</td>\n",
       "      <td>0</td>\n",
       "      <td>0</td>\n",
       "      <td>1</td>\n",
       "      <td>No</td>\n",
       "      <td>0</td>\n",
       "      <td>0</td>\n",
       "      <td>21</td>\n",
       "    </tr>\n",
       "    <tr>\n",
       "      <th>89685</th>\n",
       "      <td>F</td>\n",
       "      <td>2016-05-30</td>\n",
       "      <td>2016-06-02</td>\n",
       "      <td>10</td>\n",
       "      <td>SÃO PEDRO</td>\n",
       "      <td>0</td>\n",
       "      <td>0</td>\n",
       "      <td>0</td>\n",
       "      <td>0</td>\n",
       "      <td>0</td>\n",
       "      <td>0</td>\n",
       "      <td>No</td>\n",
       "      <td>0</td>\n",
       "      <td>3</td>\n",
       "      <td>3</td>\n",
       "    </tr>\n",
       "    <tr>\n",
       "      <th>15674</th>\n",
       "      <td>F</td>\n",
       "      <td>2016-04-19</td>\n",
       "      <td>2016-05-02</td>\n",
       "      <td>17</td>\n",
       "      <td>ILHA DO PRÍNCIPE</td>\n",
       "      <td>1</td>\n",
       "      <td>0</td>\n",
       "      <td>0</td>\n",
       "      <td>0</td>\n",
       "      <td>0</td>\n",
       "      <td>1</td>\n",
       "      <td>No</td>\n",
       "      <td>1</td>\n",
       "      <td>0</td>\n",
       "      <td>13</td>\n",
       "    </tr>\n",
       "    <tr>\n",
       "      <th>78088</th>\n",
       "      <td>M</td>\n",
       "      <td>2016-05-17</td>\n",
       "      <td>2016-05-17</td>\n",
       "      <td>23</td>\n",
       "      <td>SANTA MARTHA</td>\n",
       "      <td>0</td>\n",
       "      <td>0</td>\n",
       "      <td>0</td>\n",
       "      <td>0</td>\n",
       "      <td>0</td>\n",
       "      <td>0</td>\n",
       "      <td>No</td>\n",
       "      <td>1</td>\n",
       "      <td>1</td>\n",
       "      <td>0</td>\n",
       "    </tr>\n",
       "    <tr>\n",
       "      <th>38877</th>\n",
       "      <td>F</td>\n",
       "      <td>2016-04-26</td>\n",
       "      <td>2016-05-11</td>\n",
       "      <td>64</td>\n",
       "      <td>ANDORINHAS</td>\n",
       "      <td>0</td>\n",
       "      <td>1</td>\n",
       "      <td>0</td>\n",
       "      <td>0</td>\n",
       "      <td>0</td>\n",
       "      <td>1</td>\n",
       "      <td>No</td>\n",
       "      <td>1</td>\n",
       "      <td>2</td>\n",
       "      <td>15</td>\n",
       "    </tr>\n",
       "  </tbody>\n",
       "</table>\n",
       "</div>"
      ],
      "text/plain": [
       "       Gender ScheduledDay AppointmentDay  Age        Neighbourhood  \\\n",
       "71035       F   2016-05-13     2016-05-13   51               CENTRO   \n",
       "58172       M   2016-05-02     2016-05-16   44      JARDIM DA PENHA   \n",
       "107143      F   2016-04-11     2016-06-02   60  ILHA DE SANTA MARIA   \n",
       "26605       M   2016-05-09     2016-05-09    3          SANTOS REIS   \n",
       "3523        F   2016-04-12     2016-05-30   41          RESISTÊNCIA   \n",
       "88484       M   2016-05-16     2016-06-06   14              ITARARÉ   \n",
       "89685       F   2016-05-30     2016-06-02   10            SÃO PEDRO   \n",
       "15674       F   2016-04-19     2016-05-02   17     ILHA DO PRÍNCIPE   \n",
       "78088       M   2016-05-17     2016-05-17   23         SANTA MARTHA   \n",
       "38877       F   2016-04-26     2016-05-11   64           ANDORINHAS   \n",
       "\n",
       "       Scholarship Hypertension Diabetes Alcoholism Handicap SMSReceived  \\\n",
       "71035            0            0        0          0        0           0   \n",
       "58172            0            0        0          0        0           0   \n",
       "107143           0            0        0          0        0           1   \n",
       "26605            0            0        0          0        0           0   \n",
       "3523             0            0        0          0        0           0   \n",
       "88484            0            0        0          0        0           1   \n",
       "89685            0            0        0          0        0           0   \n",
       "15674            1            0        0          0        0           1   \n",
       "78088            0            0        0          0        0           0   \n",
       "38877            0            1        0          0        0           1   \n",
       "\n",
       "       NoShow  ScheduledDay_DOW  AppointmentDay_DOW  Waiting_Time_days  \n",
       "71035      No                 4                   4                  0  \n",
       "58172      No                 0                   0                 14  \n",
       "107143     No                 0                   3                 52  \n",
       "26605      No                 0                   0                  0  \n",
       "3523       No                 1                   0                 48  \n",
       "88484      No                 0                   0                 21  \n",
       "89685      No                 0                   3                  3  \n",
       "15674      No                 1                   0                 13  \n",
       "78088      No                 1                   1                  0  \n",
       "38877      No                 1                   2                 15  "
      ]
     },
     "execution_count": 38,
     "metadata": {},
     "output_type": "execute_result"
    }
   ],
   "source": [
    "df.sample(n=10)"
   ]
  },
  {
   "cell_type": "code",
   "execution_count": 39,
   "metadata": {
    "_cell_guid": "de42b31b-1c4d-496a-bd2f-081ae4c5e49c",
    "_uuid": "b0850f04c215fa6e9f02339c6414a75880d8286b"
   },
   "outputs": [
    {
     "name": "stdout",
     "output_type": "stream",
     "text": [
      "NoShow and Show Count of Patients\n",
      "\n",
      "NoShow\n",
      "No     88207\n",
      "Yes    22319\n",
      "dtype: int64\n",
      "\n",
      "NoShow and Show '%' of Patients\n",
      "\n",
      "Percent of Patients who `Showed Up` => 79.81%\n",
      "Percent of Patients who Did `Not Showed Up` => 20.19%\n"
     ]
    }
   ],
   "source": [
    "print(\"NoShow and Show Count of Patients\\n\")\n",
    "print(df.groupby(['NoShow']).size())\n",
    "\n",
    "print(\"\\nNoShow and Show '%' of Patients\\n\")\n",
    "show = df.groupby(['NoShow']).size()[0]/(df.groupby(['NoShow']).size()[0]+df.groupby(['NoShow']).size()[1])\n",
    "print(\"Percent of Patients who `Showed Up` => {:.2f}%\".format(show*100))\n",
    "noshow = df.groupby(['NoShow']).size()[1]/(df.groupby(['NoShow']).size()[0]+df.groupby(['NoShow']).size()[1])\n",
    "print(\"Percent of Patients who Did `Not Showed Up` => {:.2f}%\".format(noshow*100))"
   ]
  },
  {
   "cell_type": "markdown",
   "metadata": {
    "_cell_guid": "e9a33017-8a56-4712-8e83-dd51496ef455",
    "_uuid": "93ca22e17921a6ce3d35e871cb6f48f9a9b250f2"
   },
   "source": [
    "From the above information we can see that there is clearly a class imbalance. Around 80% of the patients are coming for the visit after an appointment and around 20% are skipping their appointments."
   ]
  },
  {
   "cell_type": "markdown",
   "metadata": {
    "_cell_guid": "34fbbd92-3848-4788-99df-079fc20550c2",
    "_uuid": "9fc1d444aa10b59af7d5c8039f6c6547065f63c4",
    "collapsed": true
   },
   "source": [
    "### 5. Data Visualization"
   ]
  },
  {
   "cell_type": "markdown",
   "metadata": {
    "_cell_guid": "287b0d4a-d0ea-4896-8138-b5dc9e3cd6b7",
    "_uuid": "5a7fb32088fd1604ae111c61e39cdf7c0737c968"
   },
   "source": [
    "#### 5.0 Show/NoShow"
   ]
  },
  {
   "cell_type": "markdown",
   "metadata": {
    "_cell_guid": "66f38753-a467-4bc7-89fd-285cc944561d",
    "_uuid": "e1612f75734b3bdeb28ff863a7c7f5f8d48d0b1f"
   },
   "source": [
    "Below we can see that out of 110,500 patients around 88,000 of them have turned up and that's around 80%."
   ]
  },
  {
   "cell_type": "code",
   "execution_count": 41,
   "metadata": {
    "_cell_guid": "6267a29c-c07a-4edd-ae43-5475019ccd25",
    "_uuid": "a0c0763356d9c95f6c3d3f8bd4583f6d3a1e8811"
   },
   "outputs": [
    {
     "data": {
      "image/png": "[encoded data removed]",
      "text/plain": [
       "<Figure size 432x288 with 1 Axes>"
      ]
     },
     "metadata": {
      "needs_background": "light"
     },
     "output_type": "display_data"
    }
   ],
   "source": [
    "ax = sns.countplot(x=df.NoShow, data=df)\n",
    "ax.set_title(\"Show/NoShow Patients\")\n",
    "plt.show()"
   ]
  },
  {
   "cell_type": "markdown",
   "metadata": {
    "_cell_guid": "de5faf2a-acb9-446e-a6a2-7d9697063b71",
    "_uuid": "c570e17e73c6f1f3431320b468a2374dc1e1b19e"
   },
   "source": [
    "#### 5.1 Gender"
   ]
  },
  {
   "cell_type": "markdown",
   "metadata": {
    "_cell_guid": "0897d676-ac40-46d7-b4a1-1f986e51ba33",
    "_uuid": "4ee58d017abe2b7205693048a2e538038988ded2"
   },
   "source": [
    "- Below we can see that out of the 88,000 patients that have turned up, around 57,000 of them are Females and 31,000 are Males.\n",
    "- Of the 22,500 patients that haven't come for the visit around 15,000 are Females and 7,500 are Males\n",
    "- The ratio of Females to Males that have turned up looks simiar to those who haven't come for a visit."
   ]
  },
  {
   "cell_type": "code",
   "execution_count": 42,
   "metadata": {
    "_cell_guid": "830a6459-e9e6-4dae-acf7-cca6f25689d9",
    "_uuid": "82e295e4483eb086269ec8854cc16f5790b8ce98"
   },
   "outputs": [
    {
     "data": {
      "image/png": "[encoded data removed]",
      "text/plain": [
       "<Figure size 432x288 with 1 Axes>"
      ]
     },
     "metadata": {
      "needs_background": "light"
     },
     "output_type": "display_data"
    }
   ],
   "source": [
    "ax = sns.countplot(x=df.Gender, hue=df.NoShow, data=df)\n",
    "ax.set_title(\"Show/NoShow for Females and Males\")\n",
    "x_ticks_labels=['Female', 'Male']\n",
    "ax.set_xticklabels(x_ticks_labels)\n",
    "plt.show()"
   ]
  },
  {
   "cell_type": "markdown",
   "metadata": {
    "_cell_guid": "fdeb846f-2a88-4863-accb-659c059b144c",
    "_uuid": "e1b750c4a3d796c8570793bffc5a9ef28a71f7b0"
   },
   "source": [
    "From the above visualization we can clearly see that 'Female' patients usually have more appointments that 'Male' patients. So, **Gender** might be an important factor. But if we closely look at the NoShow distribution across Male's and Female's it is almost the same. So, **Gender** may not play an important role in determining if a patient comes for a visit or not."
   ]
  },
  {
   "cell_type": "markdown",
   "metadata": {
    "_cell_guid": "adae9c9b-b8cd-44a5-91d7-e44bb9286e2f",
    "_uuid": "f79f7b1233bd62ad606e609a8a550552ff7468b7"
   },
   "source": [
    "#### 5.2 Age"
   ]
  },
  {
   "cell_type": "markdown",
   "metadata": {
    "_cell_guid": "864e0ead-af91-4a47-95c8-20fb8f03545f",
    "_uuid": "c7eee2d97e559414ef0897e880cc7ad587f2c5d1"
   },
   "source": [
    "We will draw a boxplot for the `Age` feature to check it's distribution."
   ]
  },
  {
   "cell_type": "code",
   "execution_count": 43,
   "metadata": {
    "_cell_guid": "ec403e3c-2c17-44df-992f-e9157d0e03f3",
    "_uuid": "4a79ada431c73fea0ac8c0d1d3bf14b180d3d298"
   },
   "outputs": [
    {
     "data": {
      "image/png": "[encoded data removed]",
      "text/plain": [
       "<Figure size 1152x144 with 1 Axes>"
      ]
     },
     "metadata": {
      "needs_background": "light"
     },
     "output_type": "display_data"
    }
   ],
   "source": [
    "plt.figure(figsize=(16,2))\n",
    "plt.xticks(rotation=90)\n",
    "_ = sns.boxplot(x=df.Age)"
   ]
  },
  {
   "cell_type": "markdown",
   "metadata": {
    "_cell_guid": "92a2f5fa-bc74-49dc-8c08-3896e1838949",
    "_uuid": "f0acd4b9295b726669617028fd0011d93bf6ae10"
   },
   "source": [
    "From the above `BoxPlot` we can see that the Median Age is around 30 and the IQR is between 18 and 55.\n",
    "Though the BoxPlot shows few datapoints as outliers we will not consider them as true outliers for this case."
   ]
  },
  {
   "cell_type": "markdown",
   "metadata": {
    "_cell_guid": "227cf3bf-2741-49a4-b01d-d2646a7fc454",
    "_uuid": "2726d6f0d693d30e7631c384337b05d665a3bb2f"
   },
   "source": [
    "Below we will plot the number of patients for different Age."
   ]
  },
  {
   "cell_type": "code",
   "execution_count": 44,
   "metadata": {
    "_cell_guid": "af787883-6e09-4cf2-8482-0823c66b1a62",
    "_uuid": "9640a6ad7b056c08917e262f6fbdb03d9ac52857"
   },
   "outputs": [
    {
     "data": {
      "image/png": "[encoded data removed]",
      "text/plain": [
       "<Figure size 1152x288 with 1 Axes>"
      ]
     },
     "metadata": {
      "needs_background": "light"
     },
     "output_type": "display_data"
    }
   ],
   "source": [
    "plt.figure(figsize=(16,4))\n",
    "plt.xticks(rotation=90)\n",
    "ax = sns.countplot(x=df.Age)\n",
    "ax.set_title(\"No of Appointments by Age\")\n",
    "plt.show()"
   ]
  },
  {
   "cell_type": "markdown",
   "metadata": {
    "_cell_guid": "515d492e-5d2e-446d-93f7-01506f60cc78",
    "_uuid": "a17936af664a9a43ac018dd76a399159d3d61072"
   },
   "source": [
    "From the above Histogram we can see that there are peaks for the Infants and then the distribution starts to be uniform. Later, after the Age of around 60 we see a right-skewed distribution."
   ]
  },
  {
   "cell_type": "markdown",
   "metadata": {
    "_cell_guid": "dc6db88b-0bd6-4837-91ee-3b48c8d0a1ac",
    "_uuid": "7c6fed98e4775ce5ae199fb5c8a614123d413b4f"
   },
   "source": [
    "Below we will plot the Show/NoShow for the patients based on their Age."
   ]
  },
  {
   "cell_type": "code",
   "execution_count": 45,
   "metadata": {
    "_cell_guid": "ba073ecd-b2d0-46b7-8b02-7625a0479fc9",
    "_uuid": "5adc1c5b2344144f825e86a7011ea58015c17ded"
   },
   "outputs": [
    {
     "data": {
      "image/png": "[encoded data removed]",
      "text/plain": [
       "<Figure size 1152x288 with 1 Axes>"
      ]
     },
     "metadata": {
      "needs_background": "light"
     },
     "output_type": "display_data"
    }
   ],
   "source": [
    "plt.figure(figsize=(16,4))\n",
    "plt.xticks(rotation=90)\n",
    "ax = sns.countplot(x=df.Age, hue=df.NoShow)\n",
    "ax.set_title(\"Show/NoShow of Appointments by Age\")\n",
    "plt.show()"
   ]
  },
  {
   "cell_type": "markdown",
   "metadata": {
    "_cell_guid": "3d0b78a8-8641-4325-a38d-ec9542cf1834",
    "_uuid": "e33b50a5c98e9e2dec75b9c2a7bfc7de76ca1fe1"
   },
   "source": [
    "From the above visualization looks like the ratio of Show to NoShow is almost the same for all Age's except for 'Age 0' and 'Age 1'. We will get a better clarity on the ratio of Show to NoShow for all Age's."
   ]
  },
  {
   "cell_type": "code",
   "execution_count": 46,
   "metadata": {
    "_cell_guid": "a18064ac-fe44-40da-8ebf-a44fbaf2601a",
    "_uuid": "27024870680a2e9df6d9a3b263a24c6df63f4bc8"
   },
   "outputs": [],
   "source": [
    "df_age_ratio = df[df.NoShow == 'No'].groupby(['Age']).size()/df.groupby(['Age']).size()"
   ]
  },
  {
   "cell_type": "code",
   "execution_count": 47,
   "metadata": {
    "_cell_guid": "46978b10-0a0c-421b-b4ce-3ac5001763ea",
    "_uuid": "b7140e03d2886c3986b274805e26abdd40b7a943"
   },
   "outputs": [
    {
     "data": {
      "image/png": "[encoded data removed]",
      "text/plain": [
       "<Figure size 1152x288 with 1 Axes>"
      ]
     },
     "metadata": {
      "needs_background": "light"
     },
     "output_type": "display_data"
    }
   ],
   "source": [
    "plt.figure(figsize=(16,4))\n",
    "plt.xticks(rotation=90)\n",
    "ax = sns.barplot(x=df_age_ratio.index, y=df_age_ratio)\n",
    "ax.set_title(\"Percentage of Patients that Showed Up by Age\")\n",
    "plt.show()"
   ]
  },
  {
   "cell_type": "code",
   "execution_count": 48,
   "metadata": {
    "_cell_guid": "39b15bce-ebc3-4253-9a4a-5fefe46ad0e9",
    "_uuid": "63af7ce8c8539b1574868cdcf4367499844f0cbb"
   },
   "outputs": [
    {
     "data": {
      "image/png": "[encoded data removed]",
      "text/plain": [
       "<Figure size 1152x288 with 1 Axes>"
      ]
     },
     "metadata": {
      "needs_background": "light"
     },
     "output_type": "display_data"
    }
   ],
   "source": [
    "plt.figure(figsize=(16,4))\n",
    "plt.xticks(rotation=90)\n",
    "ax = plt.hist(df_age_ratio)\n",
    "plt.title(\"Distribution of Percentage Show Up by Age\")\n",
    "plt.show()"
   ]
  },
  {
   "cell_type": "markdown",
   "metadata": {
    "_cell_guid": "8b71a61a-ff89-47c8-877a-795f7dcce279",
    "_uuid": "987aa9f3d0996a27f9347d1ee6ca317636c76a3b"
   },
   "source": [
    "From the above visualization we could clearly see that most of the Age group patients have around 80% Show rate."
   ]
  },
  {
   "cell_type": "markdown",
   "metadata": {
    "_cell_guid": "1dd22d22-ccaa-4dcb-b9a0-a37b4bb5bc48",
    "_uuid": "bd6413dfa1744ba8ff68d56d88148713313817ae"
   },
   "source": [
    "#### 5.3 Neighbourhood"
   ]
  },
  {
   "cell_type": "markdown",
   "metadata": {
    "_cell_guid": "1f612127-c1e9-45da-a03e-8fdce0374e8d",
    "_uuid": "9e9b9c805ccf2ad82120ea4335907d9ef9cfdb93"
   },
   "source": [
    "Below we will see the patients count for each Neighbourhood."
   ]
  },
  {
   "cell_type": "code",
   "execution_count": 49,
   "metadata": {
    "_cell_guid": "9f048720-6c57-4149-aa97-7764b3a6ba3a",
    "_uuid": "99cd0e5373229ce85df213c5df5cdb89632e921e"
   },
   "outputs": [
    {
     "data": {
      "image/png": "[encoded data removed]",
      "text/plain": [
       "<Figure size 1152x288 with 1 Axes>"
      ]
     },
     "metadata": {
      "needs_background": "light"
     },
     "output_type": "display_data"
    }
   ],
   "source": [
    "plt.figure(figsize=(16,4))\n",
    "plt.xticks(rotation=90)\n",
    "ax = sns.countplot(x=np.sort(df.Neighbourhood))\n",
    "ax.set_title(\"No of Appointments by Neighbourhood\")\n",
    "plt.show()"
   ]
  },
  {
   "cell_type": "markdown",
   "metadata": {
    "_cell_guid": "bfb8ec8b-e435-4deb-870c-eb345efc1ae3",
    "_uuid": "09e1a308232b9972c13374738ed09832b8d11788"
   },
   "source": [
    "From the above visualization we can see that the number of patients for few Neighbourhood's is very high."
   ]
  },
  {
   "cell_type": "code",
   "execution_count": 50,
   "metadata": {
    "_cell_guid": "72e14b69-4df9-44fc-8b6e-88c827497f8e",
    "_uuid": "214a3f720826778e84c8f1e4ad48531b6d6f84b9"
   },
   "outputs": [
    {
     "data": {
      "image/png": "[encoded data removed]",
      "text/plain": [
       "<Figure size 1152x288 with 1 Axes>"
      ]
     },
     "metadata": {
      "needs_background": "light"
     },
     "output_type": "display_data"
    }
   ],
   "source": [
    "plt.figure(figsize=(16,4))\n",
    "plt.xticks(rotation=90)\n",
    "ax = sns.countplot(x=np.sort(df.Neighbourhood), hue=df.NoShow, order=df.Neighbourhood.value_counts().index)\n",
    "ax.set_title(\"Show/NoShow by Neighbourhood\")\n",
    "plt.show()"
   ]
  },
  {
   "cell_type": "markdown",
   "metadata": {
    "_cell_guid": "f1ed8c5a-2b22-4a8a-9c85-8710cf6e2e71",
    "_uuid": "29cd0addc4cc665ac240387645c476c3ac6a4596"
   },
   "source": [
    "From the above visualization looks like the ratio of Show to NoShow is almost the same for all Neighbourhood's. We will get a better clarity on the ratio of Show to NoShow for all Neighbourhood's in the below visualization."
   ]
  },
  {
   "cell_type": "code",
   "execution_count": 51,
   "metadata": {
    "_cell_guid": "44bab3ac-2098-4af0-bfb2-422d3a47dc68",
    "_uuid": "eac4e3d2a6824ef3d8f72e224e4e3c367789592d"
   },
   "outputs": [],
   "source": [
    "df_n_ratio = df[df.NoShow == 'No'].groupby(['Neighbourhood']).size()/df.groupby(['Neighbourhood']).size()"
   ]
  },
  {
   "cell_type": "code",
   "execution_count": 52,
   "metadata": {
    "_cell_guid": "70681eba-814a-4c1e-8c4c-214af788a18d",
    "_uuid": "d07461134d182be402e430b96f6035b2d242f535"
   },
   "outputs": [
    {
     "data": {
      "image/png": "[encoded data removed]",
      "text/plain": [
       "<Figure size 1152x288 with 1 Axes>"
      ]
     },
     "metadata": {
      "needs_background": "light"
     },
     "output_type": "display_data"
    }
   ],
   "source": [
    "plt.figure(figsize=(16,4))\n",
    "plt.xticks(rotation=90)\n",
    "ax = sns.barplot(x=df_n_ratio.index, y=df_n_ratio)\n",
    "ax.set_title(\"Percetage Show Up of Patients by Neighbourhood\")\n",
    "plt.show()"
   ]
  },
  {
   "cell_type": "markdown",
   "metadata": {
    "_cell_guid": "e560c9a9-4d84-4d2c-9b96-38024d1eca9c",
    "_uuid": "7125f499c864f84b1e4060a945bc1b07fd38ba86"
   },
   "source": [
    "As most of the Neighbourhood have around 80% Show rate, this feature may not add much value while building a model to help us determine which segment of patients are tuning up for a visit the most."
   ]
  },
  {
   "cell_type": "markdown",
   "metadata": {
    "_cell_guid": "6628c8be-e205-48e4-806c-6383dc97736e",
    "_uuid": "0f709248ae7b40a85aac499a4b4e0b7da239433d"
   },
   "source": [
    "#### 5.4 Scholarship"
   ]
  },
  {
   "cell_type": "code",
   "execution_count": 53,
   "metadata": {
    "_cell_guid": "877fcae4-2d1f-4c83-b71b-7cf1fba8034f",
    "_uuid": "561d355fafc97f1b85952214b191f7a90748c1f2"
   },
   "outputs": [
    {
     "data": {
      "image/png": "[encoded data removed]",
      "text/plain": [
       "<Figure size 432x288 with 1 Axes>"
      ]
     },
     "metadata": {
      "needs_background": "light"
     },
     "output_type": "display_data"
    }
   ],
   "source": [
    "ax = sns.countplot(x=df.Scholarship, hue=df.NoShow, data=df)\n",
    "ax.set_title(\"Show/NoShow for Scholarship\")\n",
    "x_ticks_labels=['No Scholarship', 'Scholarship']\n",
    "ax.set_xticklabels(x_ticks_labels)\n",
    "plt.show()"
   ]
  },
  {
   "cell_type": "code",
   "execution_count": 54,
   "metadata": {
    "_cell_guid": "5d24ef67-0c28-42e3-a011-e1956987f57f",
    "_uuid": "6a64b21b24cff217e08e0342fe3f1a181173f311"
   },
   "outputs": [
    {
     "data": {
      "image/png": "[encoded data removed]",
      "text/plain": [
       "<Figure size 432x288 with 1 Axes>"
      ]
     },
     "metadata": {
      "needs_background": "light"
     },
     "output_type": "display_data"
    }
   ],
   "source": [
    "df_s_ratio = df[df.NoShow == 'No'].groupby(['Scholarship']).size()/df.groupby(['Scholarship']).size()\n",
    "ax = sns.barplot(x=df_s_ratio.index, y=df_s_ratio, palette=\"RdBu_r\")\n",
    "ax.set_title(\"Show Percentage for Scholarship\")\n",
    "x_ticks_labels=['No Scholarship', 'Scholarship']\n",
    "ax.set_xticklabels(x_ticks_labels)\n",
    "plt.show()"
   ]
  },
  {
   "cell_type": "markdown",
   "metadata": {
    "_cell_guid": "beaee6a4-cdc2-4ac3-b4d0-19a8ff75e9b0",
    "_uuid": "6adaf69e7d5560aac4210c2dd575f2b1828c0aaa"
   },
   "source": [
    "- From the above visualization we can see that there are around 100,000 patients without Scholarship and out of them around 80% have come for the visit.\n",
    "- Out of the 10,500 patients with Scholarship around 75% of them have come for the visit.\n",
    "\n",
    "So, Scholarship feature could help us in determining if a patient will turn up for the visit after an appointment."
   ]
  },
  {
   "cell_type": "markdown",
   "metadata": {
    "_cell_guid": "78c941e7-7f22-42b2-b648-99aeba8e3beb",
    "_uuid": "44558a3608f278bdab9304f73bbd7b3afbba666c"
   },
   "source": [
    "#### 5.5 Hypertension"
   ]
  },
  {
   "cell_type": "code",
   "execution_count": 55,
   "metadata": {
    "_cell_guid": "fcf14c20-aafc-40b6-888b-f88a31ce2ef7",
    "_uuid": "69b1678804cbbc038adba084ab54c18b319f8dd0"
   },
   "outputs": [
    {
     "data": {
      "image/png": "[encoded data removed]",
      "text/plain": [
       "<Figure size 432x288 with 1 Axes>"
      ]
     },
     "metadata": {
      "needs_background": "light"
     },
     "output_type": "display_data"
    }
   ],
   "source": [
    "ax = sns.countplot(x=df.Hypertension, hue=df.NoShow, data=df)\n",
    "ax.set_title(\"Show/NoShow for Hypertension\")\n",
    "x_ticks_labels=['No Hypertension', 'Hypertension']\n",
    "ax.set_xticklabels(x_ticks_labels)\n",
    "plt.show()"
   ]
  },
  {
   "cell_type": "code",
   "execution_count": 57,
   "metadata": {
    "_cell_guid": "27529aab-06a6-4ce4-ad29-4fcabf327043",
    "_uuid": "525369db3c4e0d70a780a5909c37389f82cb282f"
   },
   "outputs": [
    {
     "data": {
      "image/png": "[encoded data removed]",
      "text/plain": [
       "<Figure size 432x288 with 1 Axes>"
      ]
     },
     "metadata": {
      "needs_background": "light"
     },
     "output_type": "display_data"
    }
   ],
   "source": [
    "df_h_ratio = df[df.NoShow == 'No'].groupby(['Hypertension']).size()/df.groupby(['Hypertension']).size()\n",
    "ax = sns.barplot(x=df_h_ratio.index, y=df_h_ratio, palette=\"RdBu_r\")\n",
    "ax.set_title(\"Show Percentage for Hypertension\")\n",
    "x_ticks_labels=['No Hypertension', 'Hypertension']\n",
    "ax.set_xticklabels(x_ticks_labels)\n",
    "plt.show()"
   ]
  },
  {
   "cell_type": "markdown",
   "metadata": {
    "_cell_guid": "58ff14c3-a154-40c5-aa03-e339896a0801",
    "_uuid": "92fd4f3f911a53a6a61f24dda1c30ac18a31b162"
   },
   "source": [
    "- From the above visualization we can see that there are around 88,000 patients without Hypertension and out of them around 78% have come for the visit.\n",
    "- Out of the 22,500 patients with Hypertension around 85% of them have come for the visit.\n",
    "\n",
    "So, Hypertension feature could help us in determining if a patient will turn up for the visit after an appointment."
   ]
  },
  {
   "cell_type": "markdown",
   "metadata": {
    "_cell_guid": "01cb6a14-a8f3-41a1-9119-29d2697776c8",
    "_uuid": "2d2058f73e9311a4bc114540b0c7b4a7be845704"
   },
   "source": [
    "#### 5.6 Diabetes"
   ]
  },
  {
   "cell_type": "code",
   "execution_count": 58,
   "metadata": {
    "_cell_guid": "c84eedf9-105d-466a-9922-1fc29a250e1c",
    "_uuid": "e5709ba66d56f2bf9fdfcf0b0673690072d21d9a"
   },
   "outputs": [
    {
     "data": {
      "image/png": "[encoded data removed]",
      "text/plain": [
       "<Figure size 432x288 with 1 Axes>"
      ]
     },
     "metadata": {
      "needs_background": "light"
     },
     "output_type": "display_data"
    }
   ],
   "source": [
    "ax = sns.countplot(x=df.Diabetes, hue=df.NoShow, data=df)\n",
    "ax.set_title(\"Show/NoShow for Diabetes\")\n",
    "x_ticks_labels=['No Diabetes', 'Diabetes']\n",
    "ax.set_xticklabels(x_ticks_labels)\n",
    "plt.show()"
   ]
  },
  {
   "cell_type": "code",
   "execution_count": 59,
   "metadata": {
    "_cell_guid": "03707121-20ca-4480-a922-7b3e8cd65c43",
    "_uuid": "88c110900083a9f43c0734be015cb1318ff49f3f"
   },
   "outputs": [
    {
     "data": {
      "image/png": "[encoded data removed]",
      "text/plain": [
       "<Figure size 432x288 with 1 Axes>"
      ]
     },
     "metadata": {
      "needs_background": "light"
     },
     "output_type": "display_data"
    }
   ],
   "source": [
    "df_d_ratio = df[df.NoShow == 'No'].groupby(['Diabetes']).size()/df.groupby(['Diabetes']).size()\n",
    "ax = sns.barplot(x=df_d_ratio.index, y=df_d_ratio, palette=\"RdBu_r\")\n",
    "ax.set_title(\"Show Percentage for Diabetes\")\n",
    "x_ticks_labels=['No Diabetes', 'Diabetes']\n",
    "ax.set_xticklabels(x_ticks_labels)\n",
    "plt.show()"
   ]
  },
  {
   "cell_type": "markdown",
   "metadata": {
    "_cell_guid": "f2389fcf-fb88-4d68-bed3-5da8bb050cf3",
    "_uuid": "ce6aae7cc0a09ef4679c028b1432eeec791f38da"
   },
   "source": [
    "- From the above visualization we can see that there are around 102,000 patients without Diabetes and out of them around 80% have come for the visit.\n",
    "- Out of the 8,500 patients with Diabetes around 83% of them have come for the visit.\n",
    "\n",
    "So, Diabetes feature could help us in determining if a patient will turn up for the visit after an appointment."
   ]
  },
  {
   "cell_type": "markdown",
   "metadata": {
    "_cell_guid": "b39550dd-0e05-41f6-babb-b8abe884c3f2",
    "_uuid": "a9e879d75f6fc613816bd93fa36c8b388f0533f0"
   },
   "source": [
    "#### 5.7 Alcoholism"
   ]
  },
  {
   "cell_type": "code",
   "execution_count": 60,
   "metadata": {
    "_cell_guid": "954c6909-6cd8-45d3-8db0-330d18e28af2",
    "_uuid": "2eb0e377e6070490202b489e88ffbd5fba91d794"
   },
   "outputs": [
    {
     "data": {
      "image/png": "[encoded data removed]",
      "text/plain": [
       "<Figure size 432x288 with 1 Axes>"
      ]
     },
     "metadata": {
      "needs_background": "light"
     },
     "output_type": "display_data"
    }
   ],
   "source": [
    "ax = sns.countplot(x=df.Alcoholism, hue=df.NoShow, data=df)\n",
    "ax.set_title(\"Show/NoShow for Alcoholism\")\n",
    "x_ticks_labels=['No Alcoholism', 'Alcoholism']\n",
    "ax.set_xticklabels(x_ticks_labels)\n",
    "plt.show()"
   ]
  },
  {
   "cell_type": "code",
   "execution_count": 61,
   "metadata": {
    "_cell_guid": "90cbc480-d1a6-4467-9c7f-3df105600307",
    "_uuid": "94b397d185a4837daa7c208d17618daff0d5a400"
   },
   "outputs": [
    {
     "data": {
      "image/png": "[encoded data removed]",
      "text/plain": [
       "<Figure size 432x288 with 1 Axes>"
      ]
     },
     "metadata": {
      "needs_background": "light"
     },
     "output_type": "display_data"
    }
   ],
   "source": [
    "df_a_ratio = df[df.NoShow == 'No'].groupby(['Alcoholism']).size()/df.groupby(['Alcoholism']).size()\n",
    "ax = sns.barplot(x=df_a_ratio.index, y=df_a_ratio, palette=\"RdBu_r\")\n",
    "ax.set_title(\"Show Percentage for Alcoholism\")\n",
    "x_ticks_labels=['No Alcoholism', 'Alcoholism']\n",
    "ax.set_xticklabels(x_ticks_labels)\n",
    "plt.show()"
   ]
  },
  {
   "cell_type": "markdown",
   "metadata": {
    "_cell_guid": "eddcc14f-eabb-4e70-9925-e346323f4d00",
    "_uuid": "41d74413501b63468cbdefb77fd3ea799ad132d2"
   },
   "source": [
    "- From the above visualization we can see that there are around 105,000 patients without Alcoholism and out of them around 80% have come for the visit.\n",
    "- Out of the 5,500 patients with Alcoholism around 80% of them have come for the visit.\n",
    "\n",
    "As the percentage of visits for patients with and without Alcoholism is the same it may not help us in determining if a patient will come for a visit."
   ]
  },
  {
   "cell_type": "markdown",
   "metadata": {
    "_cell_guid": "f2463f08-ded9-4b7f-8825-dd88faf802f5",
    "_uuid": "3a471cb40db524cbb27c80ace6f6ac3f687a279e"
   },
   "source": [
    "#### 5.8 Handicap"
   ]
  },
  {
   "cell_type": "code",
   "execution_count": 62,
   "metadata": {
    "_cell_guid": "a2b0df32-6480-4890-b7ca-929af6548c96",
    "_uuid": "04def210c555cb28bb8c96a14bbd7d3f9cc81cc5"
   },
   "outputs": [
    {
     "data": {
      "image/png": "[encoded data removed]",
      "text/plain": [
       "<Figure size 432x288 with 1 Axes>"
      ]
     },
     "metadata": {
      "needs_background": "light"
     },
     "output_type": "display_data"
    }
   ],
   "source": [
    "ax = sns.countplot(x=df.Handicap, hue=df.NoShow, data=df)\n",
    "ax.set_title(\"Show/NoShow for Handicap\")\n",
    "plt.show()"
   ]
  },
  {
   "cell_type": "code",
   "execution_count": 63,
   "metadata": {
    "_cell_guid": "fa4045bc-5ea9-41d3-875e-98d2c2828042",
    "_uuid": "a22e6cc79dbdc23f06c0c3b64bbdf3ef799cb3be"
   },
   "outputs": [
    {
     "data": {
      "image/png": "[encoded data removed]",
      "text/plain": [
       "<Figure size 432x288 with 1 Axes>"
      ]
     },
     "metadata": {
      "needs_background": "light"
     },
     "output_type": "display_data"
    }
   ],
   "source": [
    "df_ha_ratio = df[df.NoShow == 'No'].groupby(['Handicap']).size()/df.groupby(['Handicap']).size()\n",
    "ax = sns.barplot(x=df_ha_ratio.index, y=df_ha_ratio, palette=\"RdBu_r\")\n",
    "ax.set_title(\"Show Percentage for Handicap\")\n",
    "plt.show()"
   ]
  },
  {
   "cell_type": "markdown",
   "metadata": {
    "_cell_guid": "8a52f02c-f12f-4773-8afd-c1daadc74fb9",
    "_uuid": "8c70a3d8acf0d23b2e5670dd46e78e3b168836ae"
   },
   "source": [
    "- From the above visualization we can see that there are around 110,000 patients without Handicap and out of them around 80% have come for the visit.\n",
    "\n",
    "As we can see a clear distinction between different Handicap levels this feature will help us in determining if a patient will turn up for the visit after taking an appointment."
   ]
  },
  {
   "cell_type": "markdown",
   "metadata": {
    "_cell_guid": "788a7e7e-b472-4e15-b359-4511e0395621",
    "_uuid": "f9c474c0d832492759eb052d6ef3443ab8d3dc25"
   },
   "source": [
    "#### 5.9 SMSReceived"
   ]
  },
  {
   "cell_type": "code",
   "execution_count": 64,
   "metadata": {
    "_cell_guid": "7c040965-c4ea-4487-8d10-db221245d299",
    "_uuid": "8cb88a86e7c2b5ef951f4a8905a41cfdf8e0b667"
   },
   "outputs": [
    {
     "data": {
      "image/png": "[encoded data removed]",
      "text/plain": [
       "<Figure size 432x288 with 1 Axes>"
      ]
     },
     "metadata": {
      "needs_background": "light"
     },
     "output_type": "display_data"
    }
   ],
   "source": [
    "ax = sns.countplot(x=df.SMSReceived, hue=df.NoShow, data=df)\n",
    "ax.set_title(\"Show/NoShow for SMSReceived\")\n",
    "x_ticks_labels=['No SMSReceived', 'SMSReceived']\n",
    "ax.set_xticklabels(x_ticks_labels)\n",
    "plt.show()"
   ]
  },
  {
   "cell_type": "code",
   "execution_count": 65,
   "metadata": {
    "_cell_guid": "8c5ae3b2-6795-4409-879f-285cc2a32f88",
    "_uuid": "e868f5cf77b079bf5681e3f547f48841e3ab064a"
   },
   "outputs": [
    {
     "data": {
      "image/png": "[encoded data removed]",
      "text/plain": [
       "<Figure size 432x288 with 1 Axes>"
      ]
     },
     "metadata": {
      "needs_background": "light"
     },
     "output_type": "display_data"
    }
   ],
   "source": [
    "df_s_ratio = df[df.NoShow == 'No'].groupby(['SMSReceived']).size()/df.groupby(['SMSReceived']).size()\n",
    "ax = sns.barplot(x=df_s_ratio.index, y=df_s_ratio, palette=\"RdBu_r\")\n",
    "ax.set_title(\"Show Percentage for SMSReceived\")\n",
    "x_ticks_labels=['No SMSReceived', 'SMSReceived']\n",
    "ax.set_xticklabels(x_ticks_labels)\n",
    "plt.show()"
   ]
  },
  {
   "cell_type": "markdown",
   "metadata": {
    "_cell_guid": "a9b3592d-f9cd-4c3a-bac4-e21aa402a02d",
    "_uuid": "70d3bdac5adac6dca5df9a7e7794cd16c6a271e5"
   },
   "source": [
    "- From the above visualization we can see that there are around 75,000 patients who have not received SMS and out of them around 84% have come for the visit.\n",
    "- Out of the 35,500 patients who have received SMS around 72% of them have come for the visit. (This looks opposite to what usually happens. People who do receive a reminder SMS usually tend to visit the hospital more than those who haven't received an SMS. Or this could be an SMS that was recived while booking an appointment and could possibly have no correlation with the visit probability.)\n",
    "\n",
    "As we can see a clear distinction between people reveiving SMS and not receiving SMS this feature will help us in determining if a patient will turn up for the visit after taking an appointment."
   ]
  },
  {
   "cell_type": "markdown",
   "metadata": {
    "_cell_guid": "ce6997e1-9f19-4f8a-a716-8f65269e7b3f",
    "_uuid": "0a23dca317f33d0723c2ff2fa86f1b84169d7936"
   },
   "source": [
    "#### 5.10 ScheduledDay_DOW"
   ]
  },
  {
   "cell_type": "code",
   "execution_count": 66,
   "metadata": {
    "_cell_guid": "224d5167-858f-4c9c-8ce8-d5c18d40157c",
    "_uuid": "af7af89a24c9f392c8b1b2918b6de83ba85ea8e5"
   },
   "outputs": [
    {
     "data": {
      "image/png": "[encoded data removed]",
      "text/plain": [
       "<Figure size 1152x288 with 1 Axes>"
      ]
     },
     "metadata": {
      "needs_background": "light"
     },
     "output_type": "display_data"
    }
   ],
   "source": [
    "plt.figure(figsize=(16,4))\n",
    "ax = sns.countplot(x=df.ScheduledDay_DOW, order=week_key)\n",
    "ax.set_title(\"Appointment Count for Scheduled Day of Week\")\n",
    "plt.show()"
   ]
  },
  {
   "cell_type": "markdown",
   "metadata": {
    "_cell_guid": "bba23cb7-a5a2-47a9-928a-76d75e880a76",
    "_uuid": "2fec1cd2a61230cda32eb353adb63b5903266b66"
   },
   "source": [
    "- Looks like the call center that takes the appointments doesn't work over the weekends as we do not see any appointments taken on `Saturday` and `Sunday'."
   ]
  },
  {
   "cell_type": "markdown",
   "metadata": {
    "_cell_guid": "c78dc68a-e6a5-4cbd-8fb0-5a35bf5ae426",
    "_uuid": "6500fd9a36f46c912c84b78c80dd17dfbbe7e676"
   },
   "source": [
    "#### 5.11 AppointmentDay_DOW"
   ]
  },
  {
   "cell_type": "code",
   "execution_count": 67,
   "metadata": {
    "_cell_guid": "f5b7ae7e-220f-43d4-8faa-e31f78e7692a",
    "_uuid": "7260d721b37f22d61aca189a01ee7ba043aa16d6"
   },
   "outputs": [
    {
     "data": {
      "image/png": "[encoded data removed]",
      "text/plain": [
       "<Figure size 1152x288 with 1 Axes>"
      ]
     },
     "metadata": {
      "needs_background": "light"
     },
     "output_type": "display_data"
    }
   ],
   "source": [
    "plt.figure(figsize=(16,4))\n",
    "ax = sns.countplot(x=df.AppointmentDay_DOW, order=week_key)\n",
    "ax.set_title(\"Appointment Count for Appointment Day of Week\")\n",
    "plt.show()"
   ]
  },
  {
   "cell_type": "markdown",
   "metadata": {
    "_cell_guid": "edab666c-2051-4a30-ae70-2b687b06c435",
    "_uuid": "2968e85a5ceab59677612e3fdb2266bdf6b6eba1"
   },
   "source": [
    "- There looks like a pattern with the appointments from the above visualizations. Also, we can see there are very less appointments on `Saturday` and no appointments on `Sunday`.\n",
    "\n",
    "So, AppointmentDay_DOW could help in determining if a patient visits the hospital after taking an appointment."
   ]
  },
  {
   "cell_type": "code",
   "execution_count": 68,
   "metadata": {
    "_cell_guid": "6013664f-c76d-4da0-95da-d63ef63c453d",
    "_uuid": "738a28ca07c2e3072760e17b8ee7eeee4e37287e"
   },
   "outputs": [
    {
     "data": {
      "image/png": "[encoded data removed]",
      "text/plain": [
       "<Figure size 1152x288 with 1 Axes>"
      ]
     },
     "metadata": {
      "needs_background": "light"
     },
     "output_type": "display_data"
    }
   ],
   "source": [
    "plt.figure(figsize=(16,4))\n",
    "ax = sns.countplot(x=df.AppointmentDay_DOW, hue=df.NoShow, order=week_key)\n",
    "ax.set_title(\"Show/NoShow for Appointment Day of the Week\")\n",
    "plt.show()"
   ]
  },
  {
   "cell_type": "code",
   "execution_count": 69,
   "metadata": {
    "_cell_guid": "f27fc855-2b04-47e9-b150-f519d6343d9b",
    "_uuid": "3e554271e8ce90e15be402126837474ec2d3f0bc"
   },
   "outputs": [
    {
     "data": {
      "image/png": "[encoded data removed]",
      "text/plain": [
       "<Figure size 1152x288 with 1 Axes>"
      ]
     },
     "metadata": {
      "needs_background": "light"
     },
     "output_type": "display_data"
    }
   ],
   "source": [
    "df_a_dow_ratio = df[df.NoShow == 'No'].groupby(['AppointmentDay_DOW']).size()/df.groupby(['AppointmentDay_DOW']).size()\n",
    "plt.figure(figsize=(16,4))\n",
    "ax = sns.barplot(x=df_a_dow_ratio.index, y=df_a_dow_ratio, order=week_key, palette=\"RdBu_r\")\n",
    "ax.set_title(\"Show Percent for Appointment Day of the Week\")\n",
    "plt.show()"
   ]
  },
  {
   "cell_type": "markdown",
   "metadata": {
    "_cell_guid": "c141fe1a-d10e-474d-9816-046208bb0bca",
    "_uuid": "5043a8444bc22b4b05dcd96efff01adf567ec409"
   },
   "source": [
    "- As we predicted earlier, we do not see a clear pattern in the patients visits based on the week day. But we can observe that on Saturday's the percentage of visits is less. So, AppointmentDay_DOW can help us in predicting the visits by a small number."
   ]
  },
  {
   "cell_type": "markdown",
   "metadata": {
    "_cell_guid": "1dafd7b2-cfc8-4acd-933f-9e8f001d22ee",
    "_uuid": "744639bb71ccb76a593e2bfce48b1d69b0166c1f"
   },
   "source": [
    "#### 5.12 Waiting_Time"
   ]
  },
  {
   "cell_type": "code",
   "execution_count": 70,
   "metadata": {
    "_cell_guid": "00641022-2525-4d43-9f8c-4f22aa44c5cd",
    "_uuid": "34d7e734a5364b0cb119f31a75e76ec57975a8b6"
   },
   "outputs": [
    {
     "data": {
      "image/png": "[encoded data removed]",
      "text/plain": [
       "<Figure size 1152x288 with 1 Axes>"
      ]
     },
     "metadata": {
      "needs_background": "light"
     },
     "output_type": "display_data"
    }
   ],
   "source": [
    "plt.figure(figsize=(16,4))\n",
    "ax = sns.countplot(x=df.Waiting_Time_days, order=df.Waiting_Time_days.value_counts().iloc[:55].index)\n",
    "ax.set_title(\"Waiting Time in Days (Descending Order)\")\n",
    "plt.show()"
   ]
  },
  {
   "cell_type": "markdown",
   "metadata": {
    "_cell_guid": "1ae85ee1-b8d5-4145-b186-91ea84ad3684",
    "_uuid": "45c2aa87149abf4e21d355de7572f870d1e8e681"
   },
   "source": [
    "- From the above visualization we can see that most of the patients are booking their appointments on the same day. The next highest waiting times are 2days, 4 days and 1 day."
   ]
  },
  {
   "cell_type": "code",
   "execution_count": 72,
   "metadata": {
    "_cell_guid": "63102892-dfb5-4033-a506-b77693b0fd8f",
    "_uuid": "c8dd94f0ab27ca3ce71761b3ba3ee12831e2bdc2"
   },
   "outputs": [
    {
     "data": {
      "image/png": "[encoded data removed]",
      "text/plain": [
       "<Figure size 1152x288 with 1 Axes>"
      ]
     },
     "metadata": {
      "needs_background": "light"
     },
     "output_type": "display_data"
    }
   ],
   "source": [
    "plt.figure(figsize=(16,4))\n",
    "ax = sns.countplot(x=df.Waiting_Time_days, order=df.Waiting_Time_days.value_counts(ascending=True).iloc[:55].index)\n",
    "ax.set_title(\"Waiting Time in Days (Ascending Order)\")\n",
    "plt.show()"
   ]
  },
  {
   "cell_type": "code",
   "execution_count": 73,
   "metadata": {
    "_cell_guid": "4e382acb-8722-44b8-ae8d-b6ed8fe88780",
    "_uuid": "caa0d588e56153e98115cbbb4de45f1ba7212f42"
   },
   "outputs": [
    {
     "data": {
      "image/png": "[encoded data removed]",
      "text/plain": [
       "<Figure size 1152x288 with 1 Axes>"
      ]
     },
     "metadata": {
      "needs_background": "light"
     },
     "output_type": "display_data"
    }
   ],
   "source": [
    "plt.figure(figsize=(16,4))\n",
    "ax = sns.countplot(x=df.Waiting_Time_days, hue=df.NoShow, order=df.Waiting_Time_days.value_counts().iloc[:25].index)\n",
    "ax.set_title(\"Show/NoShow Count for Waiting Time in Days (High Count)\")\n",
    "plt.show()"
   ]
  },
  {
   "cell_type": "code",
   "execution_count": 74,
   "metadata": {
    "_cell_guid": "7085845e-e456-4c62-b03a-078652be1643",
    "_uuid": "b48c6388e5e850bbbbb740480fc3b433ef04bfc9"
   },
   "outputs": [
    {
     "data": {
      "image/png": "[encoded data removed]",
      "text/plain": [
       "<Figure size 1152x288 with 1 Axes>"
      ]
     },
     "metadata": {
      "needs_background": "light"
     },
     "output_type": "display_data"
    }
   ],
   "source": [
    "plt.figure(figsize=(16,4))\n",
    "ax = sns.countplot(x=df.Waiting_Time_days, hue=df.NoShow, order=df.Waiting_Time_days.value_counts(ascending=True).iloc[:55].index)\n",
    "ax.set_title(\"Show/NoShow Count for Waiting Time in Days (Low Count)\")\n",
    "plt.show()"
   ]
  },
  {
   "cell_type": "markdown",
   "metadata": {
    "_cell_guid": "02239d87-02b8-457b-8e01-8c06ca1191d2",
    "_uuid": "4b702c5cf6a765fa95fb0e92345b2a08c117af6a"
   },
   "source": [
    "- Below we will visualize the last few rows (High WaitTime) for the Waiting_Time_days column."
   ]
  },
  {
   "cell_type": "code",
   "execution_count": 75,
   "metadata": {
    "_cell_guid": "dc8196c5-dfdc-4114-92b9-3ad13e262d1d",
    "_uuid": "acd0911bd23d428dd5971e0995f9b4ed67104164"
   },
   "outputs": [
    {
     "data": {
      "image/png": "[encoded data removed]",
      "text/plain": [
       "<Figure size 1152x288 with 1 Axes>"
      ]
     },
     "metadata": {
      "needs_background": "light"
     },
     "output_type": "display_data"
    }
   ],
   "source": [
    "plt.figure(figsize=(16,4))\n",
    "ax = sns.countplot(x=df[['Waiting_Time_days']].sort_values('Waiting_Time_days', ascending=False).Waiting_Time_days.iloc[:400])\n",
    "ax.set_title(\"Descending Waiting Time in Days\")\n",
    "plt.show()"
   ]
  },
  {
   "cell_type": "code",
   "execution_count": 76,
   "metadata": {
    "_cell_guid": "ee421920-549d-4f02-b9d9-d77cc04f5e35",
    "_uuid": "0d5b8fff4cdb3498b0807162399c1ee73e85f274"
   },
   "outputs": [
    {
     "data": {
      "image/png": "[encoded data removed]",
      "text/plain": [
       "<Figure size 1152x288 with 1 Axes>"
      ]
     },
     "metadata": {
      "needs_background": "light"
     },
     "output_type": "display_data"
    }
   ],
   "source": [
    "plt.figure(figsize=(16,4))\n",
    "ax = sns.countplot(x=df[['Waiting_Time_days']].sort_values('Waiting_Time_days', ascending=False).Waiting_Time_days.iloc[:400], hue=df.NoShow)\n",
    "ax.set_title(\"Show/NoShow - Descending Waiting Time in Days\")\n",
    "plt.show()"
   ]
  },
  {
   "cell_type": "code",
   "execution_count": 77,
   "metadata": {
    "_cell_guid": "1cc7d0e8-8aa7-4e12-a071-de2372753346",
    "_uuid": "bf0837741ea918a59aaf0fe4e2473b5056b025cb"
   },
   "outputs": [
    {
     "data": {
      "image/png": "[encoded data removed]",
      "text/plain": [
       "<Figure size 1152x288 with 1 Axes>"
      ]
     },
     "metadata": {
      "needs_background": "light"
     },
     "output_type": "display_data"
    }
   ],
   "source": [
    "df_w_ratio = df[df.NoShow == 'No'].groupby(['Waiting_Time_days']).size()/df.groupby(['Waiting_Time_days']).size()\n",
    "\n",
    "plt.figure(figsize=(16,4))\n",
    "ax = sns.barplot(x=df_w_ratio.index, y=df_w_ratio, order=df.Waiting_Time_days.iloc[:70].index, palette=\"BuGn_d\")\n",
    "ax.set_title(\"Percent of Show for Waiting Time in Days\")\n",
    "plt.show()"
   ]
  },
  {
   "cell_type": "markdown",
   "metadata": {
    "_cell_guid": "e566bb6e-82a3-4486-b119-5eaebfd65803",
    "_uuid": "bfad0e7800df8a9252abab2c7651e1ed2123a31e"
   },
   "source": [
    "From the above visualization we can see that around 95% of the patients who have booked their appointments on the same day and visiting the hospital without fail. Also close to 80% of the patients are visiting the hospital if they had booked their appointments just before 4 days.\n",
    "\n",
    "As we have a clear distinction for the patients Show/NoShow with the Waiting_Time_days feature this indeed should help us with a better prediction."
   ]
  },
  {
   "cell_type": "markdown",
   "metadata": {
    "_cell_guid": "a2bf0567-f50d-4988-8702-2e6e8ffce0eb",
    "_uuid": "ef2056e7dbbf69480f8bf9c1db79ca201a576a00"
   },
   "source": [
    "### 6. Model Building"
   ]
  },
  {
   "cell_type": "code",
   "execution_count": 78,
   "metadata": {
    "_cell_guid": "7d90f392-457c-4abc-9561-d70601c30d09",
    "_uuid": "589cd8220a7f3a8639386947fa8de30d0e432832"
   },
   "outputs": [
    {
     "name": "stdout",
     "output_type": "stream",
     "text": [
      "<class 'pandas.core.frame.DataFrame'>\n",
      "Int64Index: 110526 entries, 0 to 110526\n",
      "Data columns (total 15 columns):\n",
      "Gender                110526 non-null object\n",
      "ScheduledDay          110526 non-null datetime64[ns]\n",
      "AppointmentDay        110526 non-null datetime64[ns]\n",
      "Age                   110526 non-null int64\n",
      "Neighbourhood         110526 non-null object\n",
      "Scholarship           110526 non-null object\n",
      "Hypertension          110526 non-null object\n",
      "Diabetes              110526 non-null object\n",
      "Alcoholism            110526 non-null object\n",
      "Handicap              110526 non-null object\n",
      "SMSReceived           110526 non-null object\n",
      "NoShow                110526 non-null object\n",
      "ScheduledDay_DOW      110526 non-null int64\n",
      "AppointmentDay_DOW    110526 non-null int64\n",
      "Waiting_Time_days     110526 non-null int64\n",
      "dtypes: datetime64[ns](2), int64(4), object(9)\n",
      "memory usage: 18.5+ MB\n"
     ]
    }
   ],
   "source": [
    "df.info()"
   ]
  },
  {
   "cell_type": "code",
   "execution_count": 79,
   "metadata": {
    "_cell_guid": "eae2741c-2b38-490d-82d6-5a507618126c",
    "_uuid": "7b9e0a2f083d3aa4e4718745fc1ee1956afa51c6"
   },
   "outputs": [
    {
     "name": "stdout",
     "output_type": "stream",
     "text": [
      "LabelEncoder Completed\n"
     ]
    }
   ],
   "source": [
    "# Use `LabelEncoder` to encode labels with value between 0 and n_classes-1.\n",
    "#Gender\n",
    "le = LabelEncoder()\n",
    "df['Gender'] = le.fit_transform(df['Gender'])\n",
    "#Neighbourhood\n",
    "le = LabelEncoder()\n",
    "df['Neighbourhood'] = le.fit_transform(df['Neighbourhood'])\n",
    "#ScheduledDay_DOW\n",
    "le = LabelEncoder()\n",
    "df['ScheduledDay_DOW'] = le.fit_transform(df['ScheduledDay_DOW'])\n",
    "#AppointmentDay_DOW\n",
    "le = LabelEncoder()\n",
    "df['AppointmentDay_DOW'] = le.fit_transform(df['AppointmentDay_DOW'])\n",
    "print(\"LabelEncoder Completed\")\n",
    "\n",
    "#NoShow\n",
    "le = LabelEncoder()\n",
    "df['NoShow'] = le.fit_transform(df['NoShow'])"
   ]
  },
  {
   "cell_type": "code",
   "execution_count": 80,
   "metadata": {
    "_cell_guid": "bf93e7aa-3589-4368-833a-99bbde7f7d64",
    "_uuid": "c889fb6da379886842a3cd7b9c44b71dd9bdd2ed"
   },
   "outputs": [],
   "source": [
    "df['ScheduledDay_Y'] = df['ScheduledDay'].dt.year\n",
    "df['ScheduledDay_M'] = df['ScheduledDay'].dt.month\n",
    "df['ScheduledDay_D'] = df['ScheduledDay'].dt.day\n",
    "df.drop(['ScheduledDay'], axis=1, inplace=True)\n",
    "\n",
    "df['AppointmentDay_Y'] = df['AppointmentDay'].dt.year\n",
    "df['AppointmentDay_M'] = df['AppointmentDay'].dt.month\n",
    "df['AppointmentDay_D'] = df['AppointmentDay'].dt.day\n",
    "df.drop(['AppointmentDay'], axis=1, inplace=True)"
   ]
  },
  {
   "cell_type": "code",
   "execution_count": 81,
   "metadata": {
    "_cell_guid": "671f5fa2-a370-4a16-a609-1938f05b996e",
    "_uuid": "5384c561093b3d40ea8a03955742bdb2b6d76ec9"
   },
   "outputs": [
    {
     "data": {
      "text/html": [
       "<div>\n",
       "<style scoped>\n",
       "    .dataframe tbody tr th:only-of-type {\n",
       "        vertical-align: middle;\n",
       "    }\n",
       "\n",
       "    .dataframe tbody tr th {\n",
       "        vertical-align: top;\n",
       "    }\n",
       "\n",
       "    .dataframe thead th {\n",
       "        text-align: right;\n",
       "    }\n",
       "</style>\n",
       "<table border=\"1\" class=\"dataframe\">\n",
       "  <thead>\n",
       "    <tr style=\"text-align: right;\">\n",
       "      <th></th>\n",
       "      <th>Gender</th>\n",
       "      <th>Age</th>\n",
       "      <th>Neighbourhood</th>\n",
       "      <th>Scholarship</th>\n",
       "      <th>Hypertension</th>\n",
       "      <th>Diabetes</th>\n",
       "      <th>Alcoholism</th>\n",
       "      <th>Handicap</th>\n",
       "      <th>SMSReceived</th>\n",
       "      <th>NoShow</th>\n",
       "      <th>ScheduledDay_DOW</th>\n",
       "      <th>AppointmentDay_DOW</th>\n",
       "      <th>Waiting_Time_days</th>\n",
       "      <th>ScheduledDay_Y</th>\n",
       "      <th>ScheduledDay_M</th>\n",
       "      <th>ScheduledDay_D</th>\n",
       "      <th>AppointmentDay_Y</th>\n",
       "      <th>AppointmentDay_M</th>\n",
       "      <th>AppointmentDay_D</th>\n",
       "    </tr>\n",
       "  </thead>\n",
       "  <tbody>\n",
       "    <tr>\n",
       "      <th>72212</th>\n",
       "      <td>1</td>\n",
       "      <td>1</td>\n",
       "      <td>26</td>\n",
       "      <td>0</td>\n",
       "      <td>0</td>\n",
       "      <td>0</td>\n",
       "      <td>0</td>\n",
       "      <td>0</td>\n",
       "      <td>0</td>\n",
       "      <td>0</td>\n",
       "      <td>1</td>\n",
       "      <td>1</td>\n",
       "      <td>0</td>\n",
       "      <td>2016</td>\n",
       "      <td>5</td>\n",
       "      <td>17</td>\n",
       "      <td>2016</td>\n",
       "      <td>5</td>\n",
       "      <td>17</td>\n",
       "    </tr>\n",
       "    <tr>\n",
       "      <th>88472</th>\n",
       "      <td>0</td>\n",
       "      <td>1</td>\n",
       "      <td>36</td>\n",
       "      <td>0</td>\n",
       "      <td>0</td>\n",
       "      <td>0</td>\n",
       "      <td>0</td>\n",
       "      <td>0</td>\n",
       "      <td>1</td>\n",
       "      <td>0</td>\n",
       "      <td>1</td>\n",
       "      <td>0</td>\n",
       "      <td>27</td>\n",
       "      <td>2016</td>\n",
       "      <td>5</td>\n",
       "      <td>10</td>\n",
       "      <td>2016</td>\n",
       "      <td>6</td>\n",
       "      <td>6</td>\n",
       "    </tr>\n",
       "    <tr>\n",
       "      <th>84401</th>\n",
       "      <td>1</td>\n",
       "      <td>54</td>\n",
       "      <td>25</td>\n",
       "      <td>0</td>\n",
       "      <td>1</td>\n",
       "      <td>0</td>\n",
       "      <td>0</td>\n",
       "      <td>0</td>\n",
       "      <td>1</td>\n",
       "      <td>0</td>\n",
       "      <td>3</td>\n",
       "      <td>0</td>\n",
       "      <td>18</td>\n",
       "      <td>2016</td>\n",
       "      <td>5</td>\n",
       "      <td>19</td>\n",
       "      <td>2016</td>\n",
       "      <td>6</td>\n",
       "      <td>6</td>\n",
       "    </tr>\n",
       "    <tr>\n",
       "      <th>17430</th>\n",
       "      <td>0</td>\n",
       "      <td>0</td>\n",
       "      <td>68</td>\n",
       "      <td>0</td>\n",
       "      <td>0</td>\n",
       "      <td>0</td>\n",
       "      <td>0</td>\n",
       "      <td>0</td>\n",
       "      <td>0</td>\n",
       "      <td>0</td>\n",
       "      <td>0</td>\n",
       "      <td>0</td>\n",
       "      <td>0</td>\n",
       "      <td>2016</td>\n",
       "      <td>5</td>\n",
       "      <td>16</td>\n",
       "      <td>2016</td>\n",
       "      <td>5</td>\n",
       "      <td>16</td>\n",
       "    </tr>\n",
       "    <tr>\n",
       "      <th>37902</th>\n",
       "      <td>0</td>\n",
       "      <td>22</td>\n",
       "      <td>23</td>\n",
       "      <td>0</td>\n",
       "      <td>0</td>\n",
       "      <td>0</td>\n",
       "      <td>0</td>\n",
       "      <td>0</td>\n",
       "      <td>0</td>\n",
       "      <td>0</td>\n",
       "      <td>1</td>\n",
       "      <td>1</td>\n",
       "      <td>0</td>\n",
       "      <td>2016</td>\n",
       "      <td>5</td>\n",
       "      <td>3</td>\n",
       "      <td>2016</td>\n",
       "      <td>5</td>\n",
       "      <td>3</td>\n",
       "    </tr>\n",
       "    <tr>\n",
       "      <th>61213</th>\n",
       "      <td>0</td>\n",
       "      <td>21</td>\n",
       "      <td>80</td>\n",
       "      <td>0</td>\n",
       "      <td>0</td>\n",
       "      <td>0</td>\n",
       "      <td>0</td>\n",
       "      <td>0</td>\n",
       "      <td>1</td>\n",
       "      <td>0</td>\n",
       "      <td>4</td>\n",
       "      <td>1</td>\n",
       "      <td>4</td>\n",
       "      <td>2016</td>\n",
       "      <td>5</td>\n",
       "      <td>6</td>\n",
       "      <td>2016</td>\n",
       "      <td>5</td>\n",
       "      <td>10</td>\n",
       "    </tr>\n",
       "    <tr>\n",
       "      <th>41940</th>\n",
       "      <td>1</td>\n",
       "      <td>69</td>\n",
       "      <td>39</td>\n",
       "      <td>0</td>\n",
       "      <td>0</td>\n",
       "      <td>0</td>\n",
       "      <td>0</td>\n",
       "      <td>0</td>\n",
       "      <td>0</td>\n",
       "      <td>0</td>\n",
       "      <td>3</td>\n",
       "      <td>3</td>\n",
       "      <td>0</td>\n",
       "      <td>2016</td>\n",
       "      <td>5</td>\n",
       "      <td>5</td>\n",
       "      <td>2016</td>\n",
       "      <td>5</td>\n",
       "      <td>5</td>\n",
       "    </tr>\n",
       "    <tr>\n",
       "      <th>108519</th>\n",
       "      <td>0</td>\n",
       "      <td>54</td>\n",
       "      <td>16</td>\n",
       "      <td>0</td>\n",
       "      <td>0</td>\n",
       "      <td>0</td>\n",
       "      <td>0</td>\n",
       "      <td>0</td>\n",
       "      <td>1</td>\n",
       "      <td>0</td>\n",
       "      <td>4</td>\n",
       "      <td>2</td>\n",
       "      <td>26</td>\n",
       "      <td>2016</td>\n",
       "      <td>5</td>\n",
       "      <td>6</td>\n",
       "      <td>2016</td>\n",
       "      <td>6</td>\n",
       "      <td>1</td>\n",
       "    </tr>\n",
       "    <tr>\n",
       "      <th>78972</th>\n",
       "      <td>0</td>\n",
       "      <td>8</td>\n",
       "      <td>30</td>\n",
       "      <td>0</td>\n",
       "      <td>0</td>\n",
       "      <td>0</td>\n",
       "      <td>0</td>\n",
       "      <td>0</td>\n",
       "      <td>0</td>\n",
       "      <td>0</td>\n",
       "      <td>0</td>\n",
       "      <td>0</td>\n",
       "      <td>0</td>\n",
       "      <td>2016</td>\n",
       "      <td>5</td>\n",
       "      <td>16</td>\n",
       "      <td>2016</td>\n",
       "      <td>5</td>\n",
       "      <td>16</td>\n",
       "    </tr>\n",
       "    <tr>\n",
       "      <th>38575</th>\n",
       "      <td>1</td>\n",
       "      <td>48</td>\n",
       "      <td>80</td>\n",
       "      <td>0</td>\n",
       "      <td>0</td>\n",
       "      <td>0</td>\n",
       "      <td>1</td>\n",
       "      <td>0</td>\n",
       "      <td>0</td>\n",
       "      <td>0</td>\n",
       "      <td>3</td>\n",
       "      <td>3</td>\n",
       "      <td>7</td>\n",
       "      <td>2016</td>\n",
       "      <td>5</td>\n",
       "      <td>12</td>\n",
       "      <td>2016</td>\n",
       "      <td>5</td>\n",
       "      <td>19</td>\n",
       "    </tr>\n",
       "  </tbody>\n",
       "</table>\n",
       "</div>"
      ],
      "text/plain": [
       "        Gender  Age  Neighbourhood Scholarship Hypertension Diabetes  \\\n",
       "72212        1    1             26           0            0        0   \n",
       "88472        0    1             36           0            0        0   \n",
       "84401        1   54             25           0            1        0   \n",
       "17430        0    0             68           0            0        0   \n",
       "37902        0   22             23           0            0        0   \n",
       "61213        0   21             80           0            0        0   \n",
       "41940        1   69             39           0            0        0   \n",
       "108519       0   54             16           0            0        0   \n",
       "78972        0    8             30           0            0        0   \n",
       "38575        1   48             80           0            0        0   \n",
       "\n",
       "       Alcoholism Handicap SMSReceived  NoShow  ScheduledDay_DOW  \\\n",
       "72212           0        0           0       0                 1   \n",
       "88472           0        0           1       0                 1   \n",
       "84401           0        0           1       0                 3   \n",
       "17430           0        0           0       0                 0   \n",
       "37902           0        0           0       0                 1   \n",
       "61213           0        0           1       0                 4   \n",
       "41940           0        0           0       0                 3   \n",
       "108519          0        0           1       0                 4   \n",
       "78972           0        0           0       0                 0   \n",
       "38575           1        0           0       0                 3   \n",
       "\n",
       "        AppointmentDay_DOW  Waiting_Time_days  ScheduledDay_Y  ScheduledDay_M  \\\n",
       "72212                    1                  0            2016               5   \n",
       "88472                    0                 27            2016               5   \n",
       "84401                    0                 18            2016               5   \n",
       "17430                    0                  0            2016               5   \n",
       "37902                    1                  0            2016               5   \n",
       "61213                    1                  4            2016               5   \n",
       "41940                    3                  0            2016               5   \n",
       "108519                   2                 26            2016               5   \n",
       "78972                    0                  0            2016               5   \n",
       "38575                    3                  7            2016               5   \n",
       "\n",
       "        ScheduledDay_D  AppointmentDay_Y  AppointmentDay_M  AppointmentDay_D  \n",
       "72212               17              2016                 5                17  \n",
       "88472               10              2016                 6                 6  \n",
       "84401               19              2016                 6                 6  \n",
       "17430               16              2016                 5                16  \n",
       "37902                3              2016                 5                 3  \n",
       "61213                6              2016                 5                10  \n",
       "41940                5              2016                 5                 5  \n",
       "108519               6              2016                 6                 1  \n",
       "78972               16              2016                 5                16  \n",
       "38575               12              2016                 5                19  "
      ]
     },
     "execution_count": 81,
     "metadata": {},
     "output_type": "execute_result"
    }
   ],
   "source": [
    "df.sample(n=10)"
   ]
  },
  {
   "cell_type": "markdown",
   "metadata": {
    "_cell_guid": "f9a2e353-c76f-40d1-8be0-4db4eddb5548",
    "_uuid": "f38856bdcb3574e717fef2e4ccccf4526757daf3"
   },
   "source": [
    "**From the basic EDA we see that there are around 80% of the patients who have turned up. We see a clear class imbalance problem here. A naive approach of predicting that every one shows up gives us an accuracy of 0.8. Below we shall see how well the classifiers score on this dataset.**"
   ]
  },
  {
   "cell_type": "code",
   "execution_count": 82,
   "metadata": {
    "_cell_guid": "79cc32f8-9c1b-47c1-a571-50aec0107f6d",
    "_uuid": "c327d56460c26d5ba272e163d627a5787e392652"
   },
   "outputs": [],
   "source": [
    "# Get the Dependent and Independent Features.\n",
    "X = df.drop(['NoShow'], axis=1)\n",
    "y = df['NoShow']"
   ]
  },
  {
   "cell_type": "code",
   "execution_count": 83,
   "metadata": {
    "_cell_guid": "f4eaf738-0b96-47a5-8cf9-4b2af833cbd3",
    "_uuid": "211c43213092b7e6dd92a7eaddf28fc4285927c4"
   },
   "outputs": [],
   "source": [
    "X_train, X_test, y_train, y_test = train_test_split(X, y, test_size=0.33, random_state=0)"
   ]
  },
  {
   "cell_type": "markdown",
   "metadata": {
    "_cell_guid": "8fd3af6d-021e-43d5-a895-877e9518725f",
    "_uuid": "eb7a717e7624ca41da967c21833ddafbe4da454f"
   },
   "source": [
    "#### 6.1 DecisionTreeClassifier"
   ]
  },
  {
   "cell_type": "code",
   "execution_count": 84,
   "metadata": {
    "_cell_guid": "a53629a8-6c76-46ff-b9d4-7501353731f3",
    "_uuid": "9c95a1091d974faeeb1b4da92d84214790073814"
   },
   "outputs": [
    {
     "data": {
      "text/plain": [
       "DecisionTreeClassifier(class_weight=None, criterion='gini', max_depth=None,\n",
       "            max_features=None, max_leaf_nodes=None,\n",
       "            min_impurity_decrease=0.0, min_impurity_split=None,\n",
       "            min_samples_leaf=1, min_samples_split=2,\n",
       "            min_weight_fraction_leaf=0.0, presort=False, random_state=0,\n",
       "            splitter='best')"
      ]
     },
     "execution_count": 84,
     "metadata": {},
     "output_type": "execute_result"
    }
   ],
   "source": [
    "dt_clf = DecisionTreeClassifier(random_state=0)\n",
    "dt_clf.fit(X_train, y_train)"
   ]
  },
  {
   "cell_type": "code",
   "execution_count": 85,
   "metadata": {
    "_cell_guid": "4c53c28e-fe14-4d2d-b499-439bea190809",
    "_uuid": "22130f45fb89fda06a8e889dc7eea2fb02f21a49"
   },
   "outputs": [
    {
     "name": "stdout",
     "output_type": "stream",
     "text": [
      "Feature Importance:\n",
      "\n",
      "Gender -- 0.23\n",
      "Age -- 0.23\n",
      "Neighbourhood -- 0.17\n",
      "Scholarship -- 0.08\n",
      "Hypertension -- 0.07\n",
      "Diabetes -- 0.05\n",
      "Alcoholism -- 0.04\n",
      "Handicap -- 0.04\n",
      "SMSReceived -- 0.02\n",
      "ScheduledDay_DOW -- 0.02\n",
      "AppointmentDay_DOW -- 0.01\n",
      "Waiting_Time_days -- 0.01\n",
      "ScheduledDay_Y -- 0.01\n",
      "ScheduledDay_M -- 0.01\n",
      "ScheduledDay_D -- 0.01\n",
      "AppointmentDay_Y -- 0.01\n",
      "AppointmentDay_M -- 0.00\n",
      "AppointmentDay_D -- 0.00\n"
     ]
    }
   ],
   "source": [
    "print(\"Feature Importance:\\n\")\n",
    "for name, importance in zip(X.columns, np.sort(dt_clf.feature_importances_)[::-1]):\n",
    "    print(\"{} -- {:.2f}\".format(name, importance))"
   ]
  },
  {
   "cell_type": "code",
   "execution_count": 86,
   "metadata": {
    "_cell_guid": "bd9e1ce7-080e-4ead-b7fa-22e10e8c2426",
    "_uuid": "cce68132430d0c84d243cb0b12632eb845f5aed9"
   },
   "outputs": [
    {
     "data": {
      "text/plain": [
       "0.7242693425453748"
      ]
     },
     "execution_count": 86,
     "metadata": {},
     "output_type": "execute_result"
    }
   ],
   "source": [
    "dt_clf.score(X_test, y_test)"
   ]
  },
  {
   "cell_type": "markdown",
   "metadata": {
    "_cell_guid": "d5641f3c-0fc9-4bd1-b80e-05a79a65de29",
    "_uuid": "f127a0a7129e26939858bae10615b30b820bcccc"
   },
   "source": [
    "#### 6.2 RandomForestClassifier"
   ]
  },
  {
   "cell_type": "code",
   "execution_count": 87,
   "metadata": {
    "_cell_guid": "f3af49a4-b8e7-4ac9-89c6-1db58e8831bc",
    "_uuid": "77c01191766d8be3e1e23719ad93b8766b123e94"
   },
   "outputs": [
    {
     "data": {
      "text/plain": [
       "RandomForestClassifier(bootstrap=True, class_weight=None, criterion='gini',\n",
       "            max_depth=None, max_features='auto', max_leaf_nodes=None,\n",
       "            min_impurity_decrease=0.0, min_impurity_split=None,\n",
       "            min_samples_leaf=1, min_samples_split=2,\n",
       "            min_weight_fraction_leaf=0.0, n_estimators=10, n_jobs=1,\n",
       "            oob_score=False, random_state=0, verbose=0, warm_start=False)"
      ]
     },
     "execution_count": 87,
     "metadata": {},
     "output_type": "execute_result"
    }
   ],
   "source": [
    "rf_clf = RandomForestClassifier(random_state=0)\n",
    "rf_clf.fit(X_train, y_train)"
   ]
  },
  {
   "cell_type": "code",
   "execution_count": 88,
   "metadata": {
    "_cell_guid": "f9f5668b-45cd-4df5-ad3d-d4793a4ca73f",
    "_uuid": "58bf91835aca5fea5e8655aea7883b3c3fd0df13"
   },
   "outputs": [
    {
     "name": "stdout",
     "output_type": "stream",
     "text": [
      "Feature Importance:\n",
      "\n",
      "Gender -- 0.29\n",
      "Age -- 0.26\n",
      "Neighbourhood -- 0.14\n",
      "Scholarship -- 0.06\n",
      "Hypertension -- 0.06\n",
      "Diabetes -- 0.04\n",
      "Alcoholism -- 0.04\n",
      "Handicap -- 0.03\n",
      "SMSReceived -- 0.02\n",
      "ScheduledDay_DOW -- 0.01\n",
      "AppointmentDay_DOW -- 0.01\n",
      "Waiting_Time_days -- 0.01\n",
      "ScheduledDay_Y -- 0.01\n",
      "ScheduledDay_M -- 0.01\n",
      "ScheduledDay_D -- 0.01\n",
      "AppointmentDay_Y -- 0.01\n",
      "AppointmentDay_M -- 0.00\n",
      "AppointmentDay_D -- 0.00\n"
     ]
    }
   ],
   "source": [
    "print(\"Feature Importance:\\n\")\n",
    "for name, importance in zip(X.columns, np.sort(rf_clf.feature_importances_)[::-1]):\n",
    "    print(\"{} -- {:.2f}\".format(name, importance))"
   ]
  },
  {
   "cell_type": "code",
   "execution_count": 89,
   "metadata": {
    "_cell_guid": "765c758b-b7ed-45d8-b677-574a2b4bcf5c",
    "_uuid": "2aaa342f8ccb1990537aa38a5df714628a79a89e"
   },
   "outputs": [
    {
     "data": {
      "text/plain": [
       "0.7764983275758074"
      ]
     },
     "execution_count": 89,
     "metadata": {},
     "output_type": "execute_result"
    }
   ],
   "source": [
    "rf_clf.score(X_test, y_test)"
   ]
  },
  {
   "cell_type": "markdown",
   "metadata": {
    "_cell_guid": "6f54ca6b-47fa-4668-bb45-96472174b575",
    "_uuid": "47f09ff13abc5c360885c02740cf9b515da6006e"
   },
   "source": [
    "#### 6.3 GridSearchCV"
   ]
  },
  {
   "cell_type": "code",
   "execution_count": 90,
   "metadata": {
    "_cell_guid": "cdd249dd-7995-4527-8082-b32372bc08c6",
    "_uuid": "175d0e4f9947e9568547bb5e9842c338a92880db"
   },
   "outputs": [
    {
     "name": "stdout",
     "output_type": "stream",
     "text": [
      "Fitting 5 folds for each of 8 candidates, totalling 40 fits\n"
     ]
    },
    {
     "name": "stderr",
     "output_type": "stream",
     "text": [
      "[Parallel(n_jobs=-1)]: Done  40 out of  40 | elapsed:   58.8s finished\n"
     ]
    },
    {
     "name": "stdout",
     "output_type": "stream",
     "text": [
      "{'max_depth': 5, 'min_samples_split': 2, 'n_estimators': 10}\n",
      "0.7980656135208005\n"
     ]
    }
   ],
   "source": [
    "params={'n_estimators':[10,20], 'max_depth':[None, 5], 'min_samples_split':[2,3]}\n",
    "rf_clf = RandomForestClassifier(random_state=0)\n",
    "clf_grid = GridSearchCV(rf_clf, params, cv=5, n_jobs=-1, verbose=1)\n",
    "clf_grid.fit(X, y)\n",
    "print(clf_grid.best_params_)\n",
    "print(clf_grid.best_score_)"
   ]
  },
  {
   "cell_type": "markdown",
   "metadata": {
    "_cell_guid": "329a6213-dccf-4485-ba2c-3f7f8fd9befd",
    "_uuid": "3f31467b1857f067fc5145e93320d90b6cc346bd"
   },
   "source": [
    "From the above Model Score we can see that we are doing almost similar to the naive predictor. Also, as we have imbalanced classes, we should ideally use different metric like `F1-Score` rather than `Accuracy`."
   ]
  },
  {
   "cell_type": "markdown",
   "metadata": {
    "_cell_guid": "82420cfd-b21e-4fbb-80db-47b9ea440882",
    "_uuid": "f1083821e4617482a82c331797836fca247573c6"
   },
   "source": [
    "#### 7. LImitations"
   ]
  },
  {
   "cell_type": "markdown",
   "metadata": {
    "_cell_guid": "3eaad3bf-eefe-4dd6-9ea4-833356485519",
    "_uuid": "bb21545784c3e1c22f9934c224f9ae158c1474f5"
   },
   "source": [
    "From the data we can see that the AppointmentDay spans just over a month which means that we were given only a snapshot of complete data. Though there are no null values in the data, making exact predictions and analysis on a snapshot data is difficult and the analysis might not make a representation of the whole data.\n",
    "\n",
    "Another very important thing that was missing from the data is the Time details in the AppointmentDay which would really help us a lot in predicting NoShow of a patient. As we have the time detail for ScheduledDay, we should have saved the similar thing in AppointmentDay also and not just normalize it.\n",
    "\n",
    "Also, a reason for the appointment and the consultation doctor specialization would have helped us a lot in making better analysis and predictions for the NoShow of a patient."
   ]
  },
  {
   "cell_type": "markdown",
   "metadata": {
    "_cell_guid": "49721f89-780e-45f0-92ac-493c8fd3f8cd",
    "_uuid": "dfb9e16a92c0913b73ada66fd5bf95b7538cd1b3"
   },
   "source": [
    "#### 8. Conclusion"
   ]
  },
  {
   "cell_type": "markdown",
   "metadata": {
    "_cell_guid": "43eb2857-5f9f-4a07-9a6d-bbb28e1d6428",
    "_uuid": "b6a182065f64ffc05719b87d11656b100afbe42c"
   },
   "source": [
    "From the above feature importance, we could see that `Gender`, `Age`, `Neighbourhood`, `Scholarship` and `Hypertension` are some of the top features that would help us determine if the patient who has taken an appointment will Show/NoShow."
   ]
  }
 ],
 "metadata": {
  "kernelspec": {
   "display_name": "Python 3",
   "language": "python",
   "name": "python3"
  },
  "language_info": {
   "codemirror_mode": {
    "name": "ipython",
    "version": 3
   },
   "file_extension": ".py",
   "mimetype": "text/x-python",
   "name": "python",
   "nbconvert_exporter": "python",
   "pygments_lexer": "ipython3",
   "version": "3.7.0"
  }
 },
 "nbformat": 4,
 "nbformat_minor": 1
}
